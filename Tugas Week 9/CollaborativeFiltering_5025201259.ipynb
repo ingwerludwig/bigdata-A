{
  "nbformat": 4,
  "nbformat_minor": 0,
  "metadata": {
    "colab": {
      "provenance": []
    },
    "kernelspec": {
      "name": "python3",
      "display_name": "Python 3"
    },
    "language_info": {
      "name": "python"
    }
  },
  "cells": [
    {
      "cell_type": "markdown",
      "source": [
        "# Import Libraries"
      ],
      "metadata": {
        "id": "KCao18_Dkl3G"
      }
    },
    {
      "cell_type": "code",
      "execution_count": null,
      "metadata": {
        "colab": {
          "base_uri": "https://localhost:8080/"
        },
        "id": "awlZgLU8kdOt",
        "outputId": "f79c2878-1cae-4a7b-d381-2d5a0191f1dc"
      },
      "outputs": [
        {
          "output_type": "stream",
          "name": "stdout",
          "text": [
            "Looking in indexes: https://pypi.org/simple, https://us-python.pkg.dev/colab-wheels/public/simple/\n",
            "Collecting pyspark\n",
            "  Downloading pyspark-3.3.2.tar.gz (281.4 MB)\n",
            "\u001b[2K     \u001b[90m━━━━━━━━━━━━━━━━━━━━━━━━━━━━━━━━━━━━━━━\u001b[0m \u001b[32m281.4/281.4 MB\u001b[0m \u001b[31m4.1 MB/s\u001b[0m eta \u001b[36m0:00:00\u001b[0m\n",
            "\u001b[?25h  Preparing metadata (setup.py) ... \u001b[?25l\u001b[?25hdone\n",
            "Collecting py4j==0.10.9.5\n",
            "  Downloading py4j-0.10.9.5-py2.py3-none-any.whl (199 kB)\n",
            "\u001b[2K     \u001b[90m━━━━━━━━━━━━━━━━━━━━━━━━━━━━━━━━━━━━━━\u001b[0m \u001b[32m199.7/199.7 kB\u001b[0m \u001b[31m15.1 MB/s\u001b[0m eta \u001b[36m0:00:00\u001b[0m\n",
            "\u001b[?25hBuilding wheels for collected packages: pyspark\n",
            "  Building wheel for pyspark (setup.py) ... \u001b[?25l\u001b[?25hdone\n",
            "  Created wheel for pyspark: filename=pyspark-3.3.2-py2.py3-none-any.whl size=281824028 sha256=d16ecf5670f572124ca89434d09cc3131a4c780244004a38ccdbd39d2bb36e0f\n",
            "  Stored in directory: /root/.cache/pip/wheels/6c/e3/9b/0525ce8a69478916513509d43693511463c6468db0de237c86\n",
            "Successfully built pyspark\n",
            "Installing collected packages: py4j, pyspark\n",
            "  Attempting uninstall: py4j\n",
            "    Found existing installation: py4j 0.10.9.7\n",
            "    Uninstalling py4j-0.10.9.7:\n",
            "      Successfully uninstalled py4j-0.10.9.7\n",
            "Successfully installed py4j-0.10.9.5 pyspark-3.3.2\n"
          ]
        }
      ],
      "source": [
        "!pip install pyspark "
      ]
    },
    {
      "cell_type": "code",
      "source": [
        "from pyspark.ml.evaluation import RegressionEvaluator\n",
        "from pyspark.ml.recommendation import ALS\n",
        "from pyspark.sql import Row,SparkSession"
      ],
      "metadata": {
        "id": "H00XO9ykkk8W"
      },
      "execution_count": null,
      "outputs": []
    },
    {
      "cell_type": "markdown",
      "source": [
        "# Initialize Spark\n"
      ],
      "metadata": {
        "id": "DeOm-lgxo3kn"
      }
    },
    {
      "cell_type": "code",
      "source": [
        "# Create a SparkSession\n",
        "spark = SparkSession.builder \\\n",
        "        .master(\"local\") \\\n",
        "        .appName(\"myApp\") \\\n",
        "        .config(\"spark.sql.session.timeZone\", \"UTC\") \\\n",
        "        .config(\"spark.sql.session.timeout\", \"48h\") \\\n",
        "        .getOrCreate()"
      ],
      "metadata": {
        "id": "_EvrROODmo_r"
      },
      "execution_count": null,
      "outputs": []
    },
    {
      "cell_type": "markdown",
      "source": [
        "# Import Dataset"
      ],
      "metadata": {
        "id": "6BOcnK4Xo66I"
      }
    },
    {
      "cell_type": "code",
      "source": [
        "lines = spark.read.text(\"./sample_data/sample_movielens_ratings.txt\").rdd\n",
        "parts = lines.map(lambda row: row.value.split(\"::\"))\n",
        "ratingsRDD = parts.map(lambda p: Row(userId=int(p[0]), movieId=int(p[1]),\n",
        "                                     rating=float(p[2]), timestamp=int(p[3])))\n",
        "ratings = spark.createDataFrame(ratingsRDD)\n",
        "(training, test) = ratings.randomSplit([0.8, 0.2])"
      ],
      "metadata": {
        "id": "7jCzOLoJnbRt"
      },
      "execution_count": null,
      "outputs": []
    },
    {
      "cell_type": "markdown",
      "source": [
        "# Build Recomendation model using ALS"
      ],
      "metadata": {
        "id": "v0NYugkDonaO"
      }
    },
    {
      "cell_type": "code",
      "source": [
        "max_iters = [5, 10, 20]\n",
        "reg_params = [0.1, 0.5, 1.0]\n",
        "\n",
        "results = {}"
      ],
      "metadata": {
        "id": "gdjor1XgpDyN"
      },
      "execution_count": null,
      "outputs": []
    },
    {
      "cell_type": "code",
      "source": [
        "# Build the recommendation model using ALS on the training data\n",
        "# Note we set cold start strategy to 'drop' to ensure we don't get NaN evaluation metrics\n",
        "for max_iter in max_iters:\n",
        "    for reg_param in reg_params:\n",
        "        als = ALS(maxIter=max_iter, regParam=reg_param, userCol=\"userId\", itemCol=\"movieId\", ratingCol=\"rating\",\n",
        "                  coldStartStrategy=\"drop\")\n",
        "        model = als.fit(training)\n",
        "\n",
        "        predictions = model.transform(test)\n",
        "        evaluator = RegressionEvaluator(metricName=\"rmse\", labelCol=\"rating\",predictionCol=\"prediction\")\n",
        "        rmse = evaluator.evaluate(predictions)\n",
        "\n",
        "        results[(max_iter, reg_param)] = rmse\n",
        "        print(f\"Root-mean-square error for maxIter={max_iter}, regParam={reg_param} = {rmse}\")"
      ],
      "metadata": {
        "colab": {
          "base_uri": "https://localhost:8080/"
        },
        "id": "gMc78VjkpHn_",
        "outputId": "c76fce47-dc62-4987-9c55-262682e9b9da"
      },
      "execution_count": null,
      "outputs": [
        {
          "output_type": "stream",
          "name": "stdout",
          "text": [
            "Root-mean-square error for maxIter=5, regParam=0.1 = 0.9688068171784219\n",
            "Root-mean-square error for maxIter=5, regParam=0.5 = 1.1791751971038336\n",
            "Root-mean-square error for maxIter=5, regParam=1.0 = 1.4626570255844364\n",
            "Root-mean-square error for maxIter=10, regParam=0.1 = 0.958388386780552\n",
            "Root-mean-square error for maxIter=10, regParam=0.5 = 1.1778582283934038\n",
            "Root-mean-square error for maxIter=10, regParam=1.0 = 1.462666678476791\n",
            "Root-mean-square error for maxIter=20, regParam=0.1 = 0.9610906911437301\n",
            "Root-mean-square error for maxIter=20, regParam=0.5 = 1.1779658482486925\n",
            "Root-mean-square error for maxIter=20, regParam=1.0 = 1.4626666930936816\n"
          ]
        }
      ]
    },
    {
      "cell_type": "markdown",
      "source": [
        "Dengan referensi kode yang sudah ada, saya menambahkan perulangan untuk max_iters reg_params."
      ],
      "metadata": {
        "id": "sXBayFg9pi4Z"
      }
    },
    {
      "cell_type": "code",
      "source": [
        "\n",
        "best_params = min(results, key=results.get)\n",
        "best_rmse = results[best_params]\n",
        "print(f\"\\nBest hyperparameters: maxIter={best_params[0]}, regParam={best_params[1]} with RMSE={best_rmse}\")"
      ],
      "metadata": {
        "colab": {
          "base_uri": "https://localhost:8080/"
        },
        "id": "YXp0bc3Xpca3",
        "outputId": "678c22cd-244d-4182-8cb1-89adf0bbf62b"
      },
      "execution_count": null,
      "outputs": [
        {
          "output_type": "stream",
          "name": "stdout",
          "text": [
            "\n",
            "Best hyperparameters: maxIter=10, regParam=0.1 with RMSE=0.958388386780552\n"
          ]
        }
      ]
    },
    {
      "cell_type": "markdown",
      "source": [
        "Dari proses Build Recommendation model dengan ALS, didapatkan hasil akhir bahwa hyperparameters terbaik ada di maxIter=20, regParam=0.1 dengan RMSE=0.9832103291575914"
      ],
      "metadata": {
        "id": "QPRlF06Yqm6z"
      }
    },
    {
      "cell_type": "markdown",
      "source": [
        "# Generate Movie Recomendation"
      ],
      "metadata": {
        "id": "vd28ZDHdrCqA"
      }
    },
    {
      "cell_type": "code",
      "source": [
        "als = ALS(maxIter=best_params[0], regParam=best_params[1], userCol=\"userId\", itemCol=\"movieId\", ratingCol=\"rating\",\n",
        "               coldStartStrategy=\"drop\")\n",
        "model = als.fit(training)"
      ],
      "metadata": {
        "id": "qtYp-i0pp11i"
      },
      "execution_count": null,
      "outputs": []
    },
    {
      "cell_type": "markdown",
      "source": [
        "# Result"
      ],
      "metadata": {
        "id": "9ib4KCT4rRG-"
      }
    },
    {
      "cell_type": "code",
      "source": [
        "# Generate top 10 movie recommendations for each user\n",
        "userRecs = model.recommendForAllUsers(10)\n",
        "userRecs.show()"
      ],
      "metadata": {
        "colab": {
          "base_uri": "https://localhost:8080/"
        },
        "id": "daTCaLKMrOhj",
        "outputId": "b7376e30-9c1e-4b45-ff40-560e786822b1"
      },
      "execution_count": null,
      "outputs": [
        {
          "output_type": "stream",
          "name": "stdout",
          "text": [
            "+------+--------------------+\n",
            "|userId|     recommendations|\n",
            "+------+--------------------+\n",
            "|    20|[{22, 3.1537251},...|\n",
            "|    10|[{40, 2.8611674},...|\n",
            "|     0|[{9, 2.789438}, {...|\n",
            "|     1|[{62, 2.9791405},...|\n",
            "|    21|[{53, 4.2900853},...|\n",
            "|    11|[{32, 4.8312974},...|\n",
            "|    12|[{46, 4.462131}, ...|\n",
            "|    22|[{51, 4.4230843},...|\n",
            "|     2|[{83, 4.917964}, ...|\n",
            "|    13|[{93, 3.1314921},...|\n",
            "|     3|[{51, 4.369176}, ...|\n",
            "|    23|[{49, 4.7948055},...|\n",
            "|     4|[{53, 3.7900708},...|\n",
            "|    24|[{52, 4.4978967},...|\n",
            "|    14|[{52, 4.247112}, ...|\n",
            "|     5|[{55, 3.7527733},...|\n",
            "|    15|[{46, 3.8292143},...|\n",
            "|    25|[{47, 3.2942047},...|\n",
            "|    26|[{51, 4.855834}, ...|\n",
            "|     6|[{25, 3.946157}, ...|\n",
            "+------+--------------------+\n",
            "only showing top 20 rows\n",
            "\n"
          ]
        }
      ]
    },
    {
      "cell_type": "code",
      "source": [
        "# Generate top 10 user recommendations for each movie\n",
        "movieRecs = model.recommendForAllItems(10)\n",
        "movieRecs.show()"
      ],
      "metadata": {
        "colab": {
          "base_uri": "https://localhost:8080/"
        },
        "id": "lN727hyJrstz",
        "outputId": "5439f233-6603-4b93-92ee-268e84ba46f2"
      },
      "execution_count": null,
      "outputs": [
        {
          "output_type": "stream",
          "name": "stdout",
          "text": [
            "+-------+--------------------+\n",
            "|movieId|     recommendations|\n",
            "+-------+--------------------+\n",
            "|     20|[{17, 3.9930067},...|\n",
            "|     40|[{10, 2.8611674},...|\n",
            "|     10|[{12, 3.507947}, ...|\n",
            "|     50|[{23, 3.4926114},...|\n",
            "|     80|[{3, 3.406635}, {...|\n",
            "|     70|[{21, 3.2781315},...|\n",
            "|     60|[{22, 2.8751035},...|\n",
            "|     90|[{17, 4.592823}, ...|\n",
            "|     30|[{11, 4.6378994},...|\n",
            "|      0|[{28, 2.5745838},...|\n",
            "|     31|[{12, 3.1792202},...|\n",
            "|     81|[{28, 4.092317}, ...|\n",
            "|     91|[{25, 2.64118}, {...|\n",
            "|      1|[{12, 3.2607908},...|\n",
            "|     41|[{4, 3.2625012}, ...|\n",
            "|     61|[{6, 2.2553048}, ...|\n",
            "|     51|[{26, 4.855834}, ...|\n",
            "|     21|[{26, 2.7172592},...|\n",
            "|     11|[{2, 3.3703382}, ...|\n",
            "|     71|[{25, 2.932577}, ...|\n",
            "+-------+--------------------+\n",
            "only showing top 20 rows\n",
            "\n"
          ]
        }
      ]
    },
    {
      "cell_type": "code",
      "source": [
        "# Generate top 10 movie recommendations for a specific set of users\n",
        "users = ratings.select(als.getUserCol()).distinct().limit(3)\n",
        "userSubsetRecs = model.recommendForUserSubset(users, 10)\n",
        "userSubsetRecs.show()"
      ],
      "metadata": {
        "colab": {
          "base_uri": "https://localhost:8080/"
        },
        "id": "g4mBnvZCrvi8",
        "outputId": "6bd01dbc-aa26-49d1-9eb8-e356c9ccb6e1"
      },
      "execution_count": null,
      "outputs": [
        {
          "output_type": "stream",
          "name": "stdout",
          "text": [
            "+------+--------------------+\n",
            "|userId|     recommendations|\n",
            "+------+--------------------+\n",
            "|    26|[{51, 4.855834}, ...|\n",
            "|    19|[{90, 3.4796317},...|\n",
            "|    29|[{90, 3.7731807},...|\n",
            "+------+--------------------+\n",
            "\n"
          ]
        }
      ]
    },
    {
      "cell_type": "code",
      "source": [
        "\n",
        "# Generate top 10 user recommendations for a specific set of movies\n",
        "movies = ratings.select(als.getItemCol()).distinct().limit(3)\n",
        "movieSubSetRecs = model.recommendForItemSubset(movies, 10)\n",
        "movieSubSetRecs.show()"
      ],
      "metadata": {
        "colab": {
          "base_uri": "https://localhost:8080/"
        },
        "id": "3yc9yKqMry5v",
        "outputId": "45afb486-266a-464a-e161-93d2befbb702"
      },
      "execution_count": null,
      "outputs": [
        {
          "output_type": "stream",
          "name": "stdout",
          "text": [
            "+-------+--------------------+\n",
            "|movieId|     recommendations|\n",
            "+-------+--------------------+\n",
            "|     65|[{23, 4.2193503},...|\n",
            "|     26|[{0, 1.9150383}, ...|\n",
            "|     29|[{8, 4.482235}, {...|\n",
            "+-------+--------------------+\n",
            "\n"
          ]
        }
      ]
    },
    {
      "cell_type": "markdown",
      "source": [
        "# Summary"
      ],
      "metadata": {
        "id": "Y28HzKc1r4C5"
      }
    },
    {
      "cell_type": "markdown",
      "source": [
        "To analyze the MovieLens dataset, I took the following steps:\n",
        "\n",
        "1. I loaded the dataset and preprocessed it to create both training and test sets.\n",
        "2. Then, I experimented with various combinations of maxIter and regParam values, evaluating each model's performance on the test set and recording the corresponding RMSE in a dictionary.\n",
        "3. Using the RMSE results, I selected the best hyperparameter combination that yielded the lowest RMSE and displayed the results.\n",
        "4. With the best hyperparameters, I trained the model and generated recommendations for all users, all movies, as well as for subsets of users and movies.\n",
        "5. Finally, I presented the top 10 recommendations for each user, movie, and specified subset in the output."
      ],
      "metadata": {
        "id": "STPRohFasV3N"
      }
    }
  ]
}