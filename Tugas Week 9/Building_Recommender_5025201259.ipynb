{
  "nbformat": 4,
  "nbformat_minor": 0,
  "metadata": {
    "colab": {
      "provenance": [],
      "toc_visible": true
    },
    "language_info": {
      "name": "python"
    },
    "kernelspec": {
      "name": "python3",
      "display_name": "Python 3"
    },
    "gpuClass": "standard",
    "accelerator": "GPU"
  },
  "cells": [
    {
      "cell_type": "markdown",
      "source": [
        "*   Nama : Ingwer Ludwig N\n",
        "*   Student ID : 5025201259\n",
        "*   Class : Big Data A"
      ],
      "metadata": {
        "id": "pMrggdetwyM_"
      }
    },
    {
      "cell_type": "markdown",
      "source": [
        "#An on-line movie recommending service using Spark & Flask - Building the recommender"
      ],
      "metadata": {
        "id": "T5JobnlgwoyK"
      }
    },
    {
      "cell_type": "markdown",
      "source": [
        "This notebook explains how to use the [MovieLens dataset](http://grouplens.org/datasets/movielens/) to build a movie recommender using [collaborative filtering](https://en.wikipedia.org/wiki/Recommender_system#Collaborative_filtering) with [Spark's Alternating Least Saqures](https://spark.apache.org/docs/latest/mllib-collaborative-filtering.html) implementation. It is organised in two parts. The first one is about getting and parsing movies and ratings data into Spark RDDs. The second is about building and using the recommender and persisting it for later use in our on-line recommender system.    "
      ],
      "metadata": {
        "id": "EeLjkOtMwoyM"
      }
    },
    {
      "cell_type": "markdown",
      "source": [
        "This tutorial can be used independently to build a movie recommender model based on the MovieLens dataset. Most of the code in this first part, about how to use ALS with the public MovieLens dataset, comes from my solution to one of the exercises proposed in the [CS100.1x Introduction to Big Data with Apache Spark by Anthony D. Joseph on edX](https://www.edx.org/course/introduction-big-data-apache-spark-uc-berkeleyx-cs100-1x), that is also [**publicly available since 2014 at Spark Summit**](https://databricks-training.s3.amazonaws.com/movie-recommendation-with-mllib.html) . There I've added with minor modifications to use a larger dataset and also code about how to store and reload the model for later use. "
      ],
      "metadata": {
        "id": "IzprKK6FwoyN"
      }
    },
    {
      "cell_type": "markdown",
      "source": [
        "##Getting and processing the data"
      ],
      "metadata": {
        "id": "g1lP6qAQwoyN"
      }
    },
    {
      "cell_type": "markdown",
      "source": [
        "In order to build an on-line movie recommender using Spark, we need to have our model data as preprocessed as possible. Parsing the dataset and building the model everytime a new recommendation needs to be done is not the best of the strategies."
      ],
      "metadata": {
        "id": "njoS0TV4woyN"
      }
    },
    {
      "cell_type": "markdown",
      "source": [
        "The list of task we can pre-compute includes:  \n",
        "\n",
        "- Loading and parsing the dataset. Persisting the resulting RDD for later use.  \n",
        "- Building the recommender model using the complete dataset. Persist the dataset for later use.  \n",
        "\n",
        "This notebook explains the first of these tasks.  "
      ],
      "metadata": {
        "id": "rFJ1vXC5woyN"
      }
    },
    {
      "cell_type": "markdown",
      "source": [
        "###File download"
      ],
      "metadata": {
        "id": "77feCPCkwoyN"
      }
    },
    {
      "cell_type": "markdown",
      "source": [
        "GroupLens Research has collected and made available rating data sets from the [MovieLens web site](http://movielens.org). The data sets were collected over various periods of time, depending on the size of the set. They can be found [here](http://grouplens.org/datasets/movielens/).   "
      ],
      "metadata": {
        "id": "Bl6LmkPrwoyO"
      }
    },
    {
      "cell_type": "markdown",
      "source": [
        "In our case, we will use the latest datasets:  \n",
        "\n",
        "- Small: 100,000 ratings and 2,488 tag applications applied to 8,570 movies by 706 users. Last updated 4/2015.  \n",
        "- Full: 21,000,000 ratings and 470,000 tag applications applied to 27,000 movies by 230,000 users. Last updated 4/2015.  \n"
      ],
      "metadata": {
        "id": "DtsQ2rk1woyO"
      }
    },
    {
      "cell_type": "code",
      "source": [
        "complete_dataset_url = 'http://files.grouplens.org/datasets/movielens/ml-latest.zip'\n",
        "small_dataset_url = 'http://files.grouplens.org/datasets/movielens/ml-latest-small.zip'"
      ],
      "outputs": [],
      "metadata": {
        "id": "xDbgvmvpwoyO"
      },
      "execution_count": null
    },
    {
      "cell_type": "markdown",
      "source": [
        "We also need to define download locations."
      ],
      "metadata": {
        "id": "U9DkoSsLwoyO"
      }
    },
    {
      "cell_type": "code",
      "source": [
        "small_dataset_path = 'datasets/ml-latest-small.zip'\n",
        "complete_dataset_path = 'datasets/ml-latest.zip'\n",
        "\n",
        "import os\n",
        "if not os.path.exists('datasets'):\n",
        "    os.makedirs('datasets')\n",
        "\n",
        "datasets_path = os.path.join('..', 'datasets')"
      ],
      "outputs": [],
      "metadata": {
        "id": "hV_mi_UUwoyP"
      },
      "execution_count": null
    },
    {
      "cell_type": "markdown",
      "source": [
        "Now we can proceed with both downloads."
      ],
      "metadata": {
        "id": "GS5SvdRpwoyP"
      }
    },
    {
      "cell_type": "code",
      "source": [
        "import urllib.request\n",
        "\n",
        "small_f = urllib.request.urlretrieve(small_dataset_url, small_dataset_path)\n",
        "complete_f = urllib.request.urlretrieve(complete_dataset_url, complete_dataset_path)"
      ],
      "outputs": [],
      "metadata": {
        "id": "f3JOSJs4woyP"
      },
      "execution_count": null
    },
    {
      "cell_type": "markdown",
      "source": [
        "Both of them are zip files containing a folder with ratings, movies, etc. We need to extract them into its individual folders so we can use each file later on.  "
      ],
      "metadata": {
        "id": "Yl5eE5DjwoyP"
      }
    },
    {
      "cell_type": "code",
      "source": [
        "import zipfile\n",
        "\n",
        "with zipfile.ZipFile(small_dataset_path, \"r\") as z:\n",
        "    z.extractall(datasets_path)\n",
        "\n",
        "with zipfile.ZipFile(complete_dataset_path, \"r\") as z:\n",
        "    z.extractall(datasets_path)"
      ],
      "outputs": [],
      "metadata": {
        "id": "i8E4iRu8woyP"
      },
      "execution_count": null
    },
    {
      "cell_type": "markdown",
      "source": [
        "###Loading and parsing datasets"
      ],
      "metadata": {
        "id": "5Ybz-CiswoyP"
      }
    },
    {
      "cell_type": "markdown",
      "source": [
        "No we are ready to read in each of the files and create an RDD consisting of parsed lines.  "
      ],
      "metadata": {
        "id": "owKPPzqmwoyP"
      }
    },
    {
      "cell_type": "markdown",
      "source": [
        "Each line in the ratings dataset (`ratings.csv`) is formatted as:  \n",
        "\n",
        "`userId,movieId,rating,timestamp`  \n",
        "\n",
        "Each line in the movies (`movies.csv`) dataset is formatted as:  \n",
        "\n",
        "`movieId,title,genres`  \n",
        "\n",
        "Were *genres* has the format:  \n",
        "\n",
        "`Genre1|Genre2|Genre3...`\n",
        "\n",
        "The tags file (`tags.csv`) has the format:  \n",
        "\n",
        "`userId,movieId,tag,timestamp`  \n",
        "\n",
        "And finally, the `links.csv` file has the format:  \n",
        "\n",
        "`movieId,imdbId,tmdbId`  "
      ],
      "metadata": {
        "id": "mXBlEXiDwoyQ"
      }
    },
    {
      "cell_type": "markdown",
      "source": [
        "The format of these files is uniform and simple, so we can use Python [`split()`](https://docs.python.org/2/library/stdtypes.html#str.split) to parse their lines once they are loaded into RDDs. Parsing the movies and ratings files yields two RDDs:  \n",
        "\n",
        "* For each line in the ratings dataset, we create a tuple of `(UserID, MovieID, Rating)`. We drop the *timestamp* because we do not need it for this recommender.  \n",
        "* For each line in the movies dataset, we create a tuple of `(MovieID, Title)`. We drop the *genres* because we do not use them for this recommender.  "
      ],
      "metadata": {
        "id": "WQqlRH4nwoyQ"
      }
    },
    {
      "cell_type": "code",
      "source": [
        "!pip install pyspark"
      ],
      "metadata": {
        "colab": {
          "base_uri": "https://localhost:8080/"
        },
        "id": "4Di2QberxthX",
        "outputId": "a1d99c4b-f461-4aa3-ee2c-af0d43514e9f"
      },
      "execution_count": null,
      "outputs": [
        {
          "output_type": "stream",
          "name": "stdout",
          "text": [
            "Looking in indexes: https://pypi.org/simple, https://us-python.pkg.dev/colab-wheels/public/simple/\n",
            "Collecting pyspark\n",
            "  Downloading pyspark-3.3.2.tar.gz (281.4 MB)\n",
            "\u001b[2K     \u001b[90m━━━━━━━━━━━━━━━━━━━━━━━━━━━━━━━━━━━━━━━\u001b[0m \u001b[32m281.4/281.4 MB\u001b[0m \u001b[31m5.2 MB/s\u001b[0m eta \u001b[36m0:00:00\u001b[0m\n",
            "\u001b[?25h  Preparing metadata (setup.py) ... \u001b[?25l\u001b[?25hdone\n",
            "Collecting py4j==0.10.9.5\n",
            "  Downloading py4j-0.10.9.5-py2.py3-none-any.whl (199 kB)\n",
            "\u001b[2K     \u001b[90m━━━━━━━━━━━━━━━━━━━━━━━━━━━━━━━━━━━━━━\u001b[0m \u001b[32m199.7/199.7 kB\u001b[0m \u001b[31m25.3 MB/s\u001b[0m eta \u001b[36m0:00:00\u001b[0m\n",
            "\u001b[?25hBuilding wheels for collected packages: pyspark\n",
            "  Building wheel for pyspark (setup.py) ... \u001b[?25l\u001b[?25hdone\n",
            "  Created wheel for pyspark: filename=pyspark-3.3.2-py2.py3-none-any.whl size=281824028 sha256=f30590e525d8f6c4066ded77e9991a054dd7522e23a2e41e23c8f5c3a34b10be\n",
            "  Stored in directory: /root/.cache/pip/wheels/6c/e3/9b/0525ce8a69478916513509d43693511463c6468db0de237c86\n",
            "Successfully built pyspark\n",
            "Installing collected packages: py4j, pyspark\n",
            "  Attempting uninstall: py4j\n",
            "    Found existing installation: py4j 0.10.9.7\n",
            "    Uninstalling py4j-0.10.9.7:\n",
            "      Successfully uninstalled py4j-0.10.9.7\n",
            "Successfully installed py4j-0.10.9.5 pyspark-3.3.2\n"
          ]
        }
      ]
    },
    {
      "cell_type": "code",
      "source": [
        "!apt-get install openjdk-11-jdk-headless -qq > /dev/null\n",
        "import os\n",
        "os.environ[\"JAVA_HOME\"] = \"/usr/lib/jvm/java-11-openjdk-amd64\""
      ],
      "metadata": {
        "id": "cpNnwd5jxvXv"
      },
      "execution_count": null,
      "outputs": []
    },
    {
      "cell_type": "code",
      "source": [
        "!apt-get install openjdk-8-jdk-headless -qq > /dev/null\n",
        "!wget -q https://archive.apache.org/dist/spark/spark-3.1.2/spark-3.1.2-bin-hadoop3.2.tgz\n",
        "!tar xf spark-3.1.2-bin-hadoop3.2.tgz\n",
        "!pip install -q findspark"
      ],
      "metadata": {
        "id": "ZRJRS158xx1v"
      },
      "execution_count": null,
      "outputs": []
    },
    {
      "cell_type": "code",
      "source": [
        "import os\n",
        "os.environ[\"JAVA_HOME\"] = \"/usr/lib/jvm/java-8-openjdk-amd64\"\n",
        "os.environ[\"SPARK_HOME\"] = \"/content/spark-3.1.2-bin-hadoop3.2\""
      ],
      "metadata": {
        "id": "JcJnJGz3xz85"
      },
      "execution_count": null,
      "outputs": []
    },
    {
      "cell_type": "code",
      "source": [
        "import findspark\n",
        "findspark.init()"
      ],
      "metadata": {
        "id": "5jBfNRJ2x2Ay"
      },
      "execution_count": null,
      "outputs": []
    },
    {
      "cell_type": "code",
      "source": [
        "from pyspark import SparkContext, SparkConf\n",
        "\n",
        "sc = SparkContext.getOrCreate()\n",
        "\n",
        "if sc.master == \"local[*]\":\n",
        "    conf = SparkConf().setAppName(\"MovieLensALS\").setMaster(\"local[*]\").set(\"spark.driver.memory\", \"4g\").set(\"spark.driver.extraJavaOptions\", \"-Xss8M\")\n",
        "    sc.stop()\n",
        "    sc = SparkContext(conf=conf)"
      ],
      "metadata": {
        "id": "r-COXII6x4X7"
      },
      "execution_count": null,
      "outputs": []
    },
    {
      "cell_type": "markdown",
      "source": [
        "So let's load the raw ratings data. We need to filter out the header, included in each file.    "
      ],
      "metadata": {
        "id": "UEO6ysIewoyQ"
      }
    },
    {
      "cell_type": "code",
      "source": [
        "small_ratings_file = os.path.join(datasets_path, 'ml-latest-small', 'ratings.csv')\n",
        "\n",
        "small_ratings_raw_data = sc.textFile(small_ratings_file)\n",
        "small_ratings_raw_data_header = small_ratings_raw_data.take(1)[0]"
      ],
      "outputs": [],
      "metadata": {
        "id": "FM0-ABhewoyQ"
      },
      "execution_count": null
    },
    {
      "cell_type": "markdown",
      "source": [
        "Now we can parse the raw data into a new RDD.  "
      ],
      "metadata": {
        "id": "bmdH8PJCwoyQ"
      }
    },
    {
      "cell_type": "code",
      "source": [
        "small_ratings_data = small_ratings_raw_data.filter(lambda line: line!=small_ratings_raw_data_header)\\\n",
        "    .map(lambda line: line.split(\",\")).map(lambda tokens: (tokens[0],tokens[1],tokens[2])).cache()"
      ],
      "outputs": [],
      "metadata": {
        "id": "qXIQc2ODwoyQ"
      },
      "execution_count": null
    },
    {
      "cell_type": "markdown",
      "source": [
        "For illustrative purposes, we can take the first few lines of our RDD to see the result. In the final script we don't call any Spark action (e.g. `take`) until needed, since they trigger actual computations in the cluster.  "
      ],
      "metadata": {
        "id": "g1kLeDlWwoyQ"
      }
    },
    {
      "cell_type": "code",
      "source": [
        "small_ratings_data.take(3)"
      ],
      "outputs": [
        {
          "output_type": "execute_result",
          "data": {
            "text/plain": [
              "[('1', '1', '4.0'), ('1', '3', '4.0'), ('1', '6', '4.0')]"
            ]
          },
          "metadata": {},
          "execution_count": 17
        }
      ],
      "metadata": {
        "id": "qq_kDkZywoyQ",
        "colab": {
          "base_uri": "https://localhost:8080/"
        },
        "outputId": "eb5e8751-df74-4cbe-f518-fac283113c40"
      },
      "execution_count": null
    },
    {
      "cell_type": "markdown",
      "source": [
        "We proceed in a similar way with the `movies.csv` file."
      ],
      "metadata": {
        "id": "Z17T809iwoyR"
      }
    },
    {
      "cell_type": "code",
      "source": [
        "small_movies_file = os.path.join(datasets_path, 'ml-latest-small', 'movies.csv')\n",
        "\n",
        "small_movies_raw_data = sc.textFile(small_movies_file)\n",
        "small_movies_raw_data_header = small_movies_raw_data.take(1)[0]\n",
        "\n",
        "small_movies_data = small_movies_raw_data.filter(lambda line: line!=small_movies_raw_data_header)\\\n",
        "    .map(lambda line: line.split(\",\")).map(lambda tokens: (tokens[0],tokens[1])).cache()\n",
        "    \n",
        "small_movies_data.take(3)"
      ],
      "outputs": [
        {
          "output_type": "execute_result",
          "data": {
            "text/plain": [
              "[('1', 'Toy Story (1995)'),\n",
              " ('2', 'Jumanji (1995)'),\n",
              " ('3', 'Grumpier Old Men (1995)')]"
            ]
          },
          "metadata": {},
          "execution_count": 18
        }
      ],
      "metadata": {
        "id": "QCMEF5E6woyR",
        "colab": {
          "base_uri": "https://localhost:8080/"
        },
        "outputId": "0b2b61e1-7783-4ac8-d06a-1df744a35c21"
      },
      "execution_count": null
    },
    {
      "cell_type": "markdown",
      "source": [
        "The following sections introduce *Collaborative Filtering* and explain how to use *Spark MLlib* to build a recommender model. We will close the tutorial by explaining how a model such this is used to make recommendations, and how to persist it for later use (e.g. in our Python/flask web-service)."
      ],
      "metadata": {
        "id": "INpGylDAwoyR"
      }
    },
    {
      "cell_type": "markdown",
      "source": [
        "##Collaborative Filtering"
      ],
      "metadata": {
        "id": "Vkjb5cCWwoyR"
      }
    },
    {
      "cell_type": "markdown",
      "source": [
        "In Collaborative filtering we make predictions (filtering) about the interests of a user by collecting preferences or taste information from many users (collaborating). The underlying assumption is that if a user A has the same opinion as a user B on an issue, A is more likely to have B's opinion on a different issue x than to have the opinion on x of a user chosen randomly.  "
      ],
      "metadata": {
        "id": "gyPsMKKnwoyR"
      }
    },
    {
      "cell_type": "markdown",
      "source": [
        "The image below (from [Wikipedia](https://en.wikipedia.org/?title=Collaborative_filtering)) shows an example of collaborative filtering. At first, people rate different items (like videos, images, games). Then, the system makes predictions about a user's rating for an item not rated yet. The new predictions are built upon the existing ratings of other users with similar ratings with the active user. In the image, the system predicts that the user will not like the video.  "
      ],
      "metadata": {
        "id": "4jtxhoNywoyT"
      }
    },
    {
      "cell_type": "markdown",
      "source": [
        "![collaborative filtering](https://upload.wikimedia.org/wikipedia/commons/5/52/Collaborative_filtering.gif)"
      ],
      "metadata": {
        "id": "ETTzcM5SwoyT"
      }
    },
    {
      "cell_type": "markdown",
      "source": [
        "Spark MLlib library for Machine Learning provides a [Collaborative Filtering](https://spark.apache.org/docs/latest/mllib-collaborative-filtering.html) implementation by using [Alternating Least Squares](http://dl.acm.org/citation.cfm?id=1608614). The implementation in MLlib has the following parameters:  \n",
        "\n",
        "- numBlocks is the number of blocks used to parallelize computation (set to -1 to auto-configure).  \n",
        "- rank is the number of latent factors in the model.  \n",
        "- iterations is the number of iterations to run.  \n",
        "- lambda specifies the regularization parameter in ALS.  \n",
        "- implicitPrefs specifies whether to use the explicit feedback ALS variant or one adapted for implicit feedback data.  \n",
        "- alpha is a parameter applicable to the implicit feedback variant of ALS that governs the baseline confidence in preference observations.  \n"
      ],
      "metadata": {
        "id": "gyPvJY1TwoyT"
      }
    },
    {
      "cell_type": "markdown",
      "source": [
        "##Selecting ALS parameters using the small dataset"
      ],
      "metadata": {
        "id": "DTBH2-4awoyT"
      }
    },
    {
      "cell_type": "markdown",
      "source": [
        "In order to determine the best ALS parameters, we will use the small dataset. We need first to split it into train, validation, and test datasets."
      ],
      "metadata": {
        "id": "4mdbWqOwwoyT"
      }
    },
    {
      "cell_type": "code",
      "source": [
        "training_RDD, validation_RDD, test_RDD = small_ratings_data.randomSplit([6, 2, 2], seed=0)\n",
        "validation_for_predict_RDD = validation_RDD.map(lambda x: (x[0], x[1]))\n",
        "test_for_predict_RDD = test_RDD.map(lambda x: (x[0], x[1]))"
      ],
      "outputs": [],
      "metadata": {
        "id": "T5YanYcDwoyT"
      },
      "execution_count": null
    },
    {
      "cell_type": "markdown",
      "source": [
        "Now we can proceed with the training phase. "
      ],
      "metadata": {
        "id": "vHASemh5woyT"
      }
    },
    {
      "cell_type": "code",
      "source": [
        "from pyspark.mllib.recommendation import ALS\n",
        "import math\n",
        "\n",
        "seed = 5\n",
        "iterations = 10\n",
        "regularization_parameter = 0.1\n",
        "ranks = [4, 8, 12]\n",
        "errors = [0, 0, 0]\n",
        "err = 0\n",
        "tolerance = 0.02\n",
        "\n",
        "min_error = float('inf')\n",
        "best_rank = -1\n",
        "best_iteration = -1\n",
        "for rank in ranks:\n",
        "    model = ALS.train(training_RDD, rank, seed=seed, iterations=iterations,\n",
        "                      lambda_=regularization_parameter)\n",
        "    predictions = model.predictAll(validation_for_predict_RDD).map(lambda r: ((r[0], r[1]), r[2]))\n",
        "    rates_and_preds = validation_RDD.map(lambda r: ((int(r[0]), int(r[1])), float(r[2]))).join(predictions)\n",
        "    error = math.sqrt(rates_and_preds.map(lambda r: (r[1][0] - r[1][1])**2).mean())\n",
        "    errors[err] = error\n",
        "    err += 1\n",
        "    print('For rank %s the RMSE is %s' % (rank, error))\n",
        "    if error < min_error:\n",
        "        min_error = error\n",
        "        best_rank = rank\n",
        "\n",
        "print('The best model was trained with rank %s' % best_rank)"
      ],
      "outputs": [
        {
          "output_type": "stream",
          "name": "stdout",
          "text": [
            "For rank 4 the RMSE is 0.9121002114021121\n",
            "For rank 8 the RMSE is 0.9184327213070025\n",
            "For rank 12 the RMSE is 0.9160151537868968\n",
            "The best model was trained with rank 4\n"
          ]
        }
      ],
      "metadata": {
        "id": "zockZPHZwoyT",
        "colab": {
          "base_uri": "https://localhost:8080/"
        },
        "outputId": "84bf8a80-37a8-4853-a2b8-dc9ca82f1337"
      },
      "execution_count": null
    },
    {
      "cell_type": "markdown",
      "source": [
        "But let's explain this a little bit. First, let's have a look at how our predictions look.  "
      ],
      "metadata": {
        "id": "AVMHf6MdwoyU"
      }
    },
    {
      "cell_type": "code",
      "source": [
        "predictions.take(3)"
      ],
      "outputs": [
        {
          "output_type": "execute_result",
          "data": {
            "text/plain": [
              "[((372, 1084), 3.606783397597423),\n",
              " ((4, 1084), 3.653744361967948),\n",
              " ((402, 1084), 3.5469004231749226)]"
            ]
          },
          "metadata": {},
          "execution_count": 26
        }
      ],
      "metadata": {
        "id": "YsB3i1V3woyU",
        "colab": {
          "base_uri": "https://localhost:8080/"
        },
        "outputId": "6c11f97b-fdc3-45e7-bc5d-f6acf7d711a7"
      },
      "execution_count": null
    },
    {
      "cell_type": "markdown",
      "source": [
        "Basically we have the UserID, the MovieID, and the Rating, as we have in our ratings dataset. In this case the predictions third element, the rating for that movie and user, is the predicted by our ALS model."
      ],
      "metadata": {
        "id": "wkkMarDUwoyU"
      }
    },
    {
      "cell_type": "markdown",
      "source": [
        "Then we join these with our validation data (the one that includes ratings) and the result looks as follows:  "
      ],
      "metadata": {
        "id": "zcMjfRNdwoyU"
      }
    },
    {
      "cell_type": "code",
      "source": [
        "rates_and_preds.take(3)"
      ],
      "outputs": [
        {
          "output_type": "execute_result",
          "data": {
            "text/plain": [
              "[((1, 457), (5.0, 4.478201277281334)),\n",
              " ((1, 1025), (5.0, 4.508338559183116)),\n",
              " ((1, 1089), (5.0, 4.927108181828176))]"
            ]
          },
          "metadata": {},
          "execution_count": 27
        }
      ],
      "metadata": {
        "id": "zsF0EMYywoyU",
        "colab": {
          "base_uri": "https://localhost:8080/"
        },
        "outputId": "1719e3ff-d818-4dc1-82d8-75beae1612b4"
      },
      "execution_count": null
    },
    {
      "cell_type": "markdown",
      "source": [
        "To that, we apply a squared difference and the we use the `mean()` action to get the MSE and apply `sqrt`."
      ],
      "metadata": {
        "id": "WjQ4mRkvwoyU"
      }
    },
    {
      "cell_type": "markdown",
      "source": [
        "Finally we test the selected model."
      ],
      "metadata": {
        "id": "SXZO3GVewoyV"
      }
    },
    {
      "cell_type": "code",
      "source": [
        "model = ALS.train(training_RDD, best_rank, seed=seed, iterations=iterations,\n",
        "                      lambda_=regularization_parameter)\n",
        "predictions = model.predictAll(test_for_predict_RDD).map(lambda r: ((r[0], r[1]), r[2]))\n",
        "rates_and_preds = test_RDD.map(lambda r: ((int(r[0]), int(r[1])), float(r[2]))).join(predictions)\n",
        "error = math.sqrt(rates_and_preds.map(lambda r: (r[1][0] - r[1][1])**2).mean())\n",
        "    \n",
        "print('For testing data the RMSE is %s' % (error))"
      ],
      "outputs": [
        {
          "output_type": "stream",
          "name": "stdout",
          "text": [
            "For testing data the RMSE is 0.9121326039222192\n"
          ]
        }
      ],
      "metadata": {
        "id": "YfvMbzCNwoyV",
        "colab": {
          "base_uri": "https://localhost:8080/"
        },
        "outputId": "07ab25f2-3929-42c6-f4bf-5269dc2cb4b6"
      },
      "execution_count": null
    },
    {
      "cell_type": "markdown",
      "source": [
        "##Using the complete dataset to build the final model"
      ],
      "metadata": {
        "id": "FOQAhfTfwoyV"
      }
    },
    {
      "cell_type": "markdown",
      "source": [
        "In order to build our recommender model, we will use the complete dataset. Therefore, we need to process it the same way we did with the small dataset.   "
      ],
      "metadata": {
        "id": "HYxOIibDwoyV"
      }
    },
    {
      "cell_type": "code",
      "source": [
        "# Load the complete dataset file\n",
        "complete_ratings_file = os.path.join(datasets_path, 'ml-latest', 'ratings.csv')\n",
        "complete_ratings_raw_data = sc.textFile(complete_ratings_file)\n",
        "complete_ratings_raw_data_header = complete_ratings_raw_data.take(1)[0]\n",
        "\n",
        "# Parse\n",
        "complete_ratings_data = complete_ratings_raw_data.filter(lambda line: line!=complete_ratings_raw_data_header)\\\n",
        "    .map(lambda line: line.split(\",\")).map(lambda tokens: (int(tokens[0]),int(tokens[1]),float(tokens[2]))).cache()\n",
        "    \n",
        "print(\"There are %s recommendations in the complete dataset\" % (complete_ratings_data.count()))"
      ],
      "outputs": [
        {
          "output_type": "stream",
          "name": "stdout",
          "text": [
            "There are 27753444 recommendations in the complete dataset\n"
          ]
        }
      ],
      "metadata": {
        "id": "oAMZJRjxwoyV",
        "colab": {
          "base_uri": "https://localhost:8080/"
        },
        "outputId": "18ebdd94-611f-4e5e-c61a-213bb8a7180b"
      },
      "execution_count": null
    },
    {
      "cell_type": "markdown",
      "source": [
        "Now we are ready to train the recommender model."
      ],
      "metadata": {
        "id": "65pnCZEQwoyV"
      }
    },
    {
      "cell_type": "code",
      "source": [
        "training_RDD, test_RDD = complete_ratings_data.randomSplit([7, 3], seed=0)\n",
        "\n",
        "complete_model = ALS.train(training_RDD, best_rank, seed=seed, \n",
        "                           iterations=iterations, lambda_=regularization_parameter)"
      ],
      "outputs": [],
      "metadata": {
        "id": "5hDKKU7LwoyV"
      },
      "execution_count": null
    },
    {
      "cell_type": "markdown",
      "source": [
        "Now we test on our testing set.  "
      ],
      "metadata": {
        "id": "T5KhnOl_woyV"
      }
    },
    {
      "cell_type": "code",
      "source": [
        "test_for_predict_RDD = test_RDD.map(lambda x: (x[0], x[1]))\n",
        "\n",
        "predictions = complete_model.predictAll(test_for_predict_RDD).map(lambda r: ((r[0], r[1]), r[2]))\n",
        "rates_and_preds = test_RDD.map(lambda r: ((int(r[0]), int(r[1])), float(r[2]))).join(predictions)\n",
        "error = math.sqrt(rates_and_preds.map(lambda r: (r[1][0] - r[1][1])**2).mean())\n",
        "    \n",
        "print('For testing data the RMSE is %s' % (error))"
      ],
      "outputs": [
        {
          "output_type": "stream",
          "name": "stdout",
          "text": [
            "For testing data the RMSE is 0.8334782410156314\n"
          ]
        }
      ],
      "metadata": {
        "id": "mCghxgQswoyW",
        "colab": {
          "base_uri": "https://localhost:8080/"
        },
        "outputId": "53ae6546-fe75-42f4-c5ee-9be62d42e160"
      },
      "execution_count": null
    },
    {
      "cell_type": "markdown",
      "source": [
        "We can see how we got a more accurate recommender when using a much larger dataset.  "
      ],
      "metadata": {
        "id": "WDI2-ZQMwoyW"
      }
    },
    {
      "cell_type": "markdown",
      "source": [
        "##How to make recommendations"
      ],
      "metadata": {
        "id": "LlNfeR0ewoyW"
      }
    },
    {
      "cell_type": "markdown",
      "source": [
        "Although we aim at building an on-line movie recommender, now that we know how to have our recommender model ready, we can give it a try providing some movie recommendations. This will help us coiding the recommending engine later on when building the web service, and will explain how to use the model in any other circumstances.  "
      ],
      "metadata": {
        "id": "pC1CddtzwoyW"
      }
    },
    {
      "cell_type": "markdown",
      "source": [
        "When using collaborative filtering, getting recommendations is not as simple as predicting for the new entries using a previously generated model. Instead, we need to train again the model but including the new user preferences in order to compare them with other users in the dataset. That is, the recommender needs to be trained every time we have new user ratings (although a single model can be used by multiple users of course!). This makes the process expensive, and it is one of the reasons why scalability is a problem (and Spark a solution!). Once we have our model trained, we can reuse it to obtain top recomendations for a given user or an individual rating for a particular movie. These are less costly operations than training the model itself.    "
      ],
      "metadata": {
        "id": "pdiKV2HNwoyW"
      }
    },
    {
      "cell_type": "markdown",
      "source": [
        "So let's first load the movies complete file for later use."
      ],
      "metadata": {
        "id": "dbde-fg7woyW"
      }
    },
    {
      "cell_type": "code",
      "source": [
        "complete_movies_file = os.path.join(datasets_path, 'ml-latest', 'movies.csv')\n",
        "complete_movies_raw_data = sc.textFile(complete_movies_file)\n",
        "complete_movies_raw_data_header = complete_movies_raw_data.take(1)[0]\n",
        "\n",
        "# Parse\n",
        "complete_movies_data = complete_movies_raw_data.filter(lambda line: line!=complete_movies_raw_data_header)\\\n",
        "    .map(lambda line: line.split(\",\")).map(lambda tokens: (int(tokens[0]),tokens[1],tokens[2])).cache()\n",
        "\n",
        "complete_movies_titles = complete_movies_data.map(lambda x: (int(x[0]),x[1]))\n",
        "    \n",
        "print(\"There are %s movies in the complete dataset\" % (complete_movies_titles.count()))"
      ],
      "outputs": [
        {
          "output_type": "stream",
          "name": "stdout",
          "text": [
            "There are 58098 movies in the complete dataset\n"
          ]
        }
      ],
      "metadata": {
        "id": "4xHWFGXKwoyW",
        "colab": {
          "base_uri": "https://localhost:8080/"
        },
        "outputId": "38acd0c4-a2c7-42a2-9f12-13b6a1997855"
      },
      "execution_count": null
    },
    {
      "cell_type": "markdown",
      "source": [
        "Another thing we want to do, is give recommendations of movies with a certain minimum number of ratings. For that, we need to count the number of ratings per movie.  "
      ],
      "metadata": {
        "id": "s5ooGzfywoyW"
      }
    },
    {
      "cell_type": "code",
      "source": [
        "def get_counts_and_averages(ID_and_ratings_tuple):\n",
        "    nratings = len(ID_and_ratings_tuple[1])\n",
        "    return ID_and_ratings_tuple[0], (nratings, float(sum(x for x in ID_and_ratings_tuple[1]))/nratings)\n",
        "\n",
        "movie_ID_with_ratings_RDD = (complete_ratings_data.map(lambda x: (x[1], x[2])).groupByKey())\n",
        "movie_ID_with_avg_ratings_RDD = movie_ID_with_ratings_RDD.map(get_counts_and_averages)\n",
        "movie_rating_counts_RDD = movie_ID_with_avg_ratings_RDD.map(lambda x: (x[0], x[1][0]))"
      ],
      "outputs": [],
      "metadata": {
        "id": "lSTBnYuLwoyX"
      },
      "execution_count": null
    },
    {
      "cell_type": "markdown",
      "source": [
        "###Adding new user ratings"
      ],
      "metadata": {
        "id": "YQC9NvGhwoyX"
      }
    },
    {
      "cell_type": "markdown",
      "source": [
        "Now we need to rate some movies for the new user. We will put them in a new RDD and we will use the user ID 0, that is not assigned in the MovieLens dataset. Check the [dataset](http://grouplens.org/datasets/movielens/) movies file for ID to Tittle assignment (so you know what movies are you actually rating).   "
      ],
      "metadata": {
        "id": "hlF2A2g_woyX"
      }
    },
    {
      "cell_type": "code",
      "source": [
        "new_user_ID = 0\n",
        "\n",
        "# The format of each line is (userID, movieID, rating)\n",
        "new_user_ratings = [\n",
        "     (0,260,9), # Star Wars (1977)\n",
        "     (0,1,8), # Toy Story (1995)\n",
        "     (0,16,7), # Casino (1995)\n",
        "     (0,25,8), # Leaving Las Vegas (1995)\n",
        "     (0,32,9), # Twelve Monkeys (a.k.a. 12 Monkeys) (1995)\n",
        "     (0,335,4), # Flintstones, The (1994)\n",
        "     (0,379,3), # Timecop (1994)\n",
        "     (0,296,7), # Pulp Fiction (1994)\n",
        "     (0,858,10) , # Godfather, The (1972)\n",
        "     (0,50,8) # Usual Suspects, The (1995)\n",
        "    ]\n",
        "new_user_ratings_RDD = sc.parallelize(new_user_ratings)\n",
        "print('New user ratings: %s' % new_user_ratings_RDD.take(10))"
      ],
      "outputs": [
        {
          "output_type": "stream",
          "name": "stdout",
          "text": [
            "New user ratings: [(0, 260, 9), (0, 1, 8), (0, 16, 7), (0, 25, 8), (0, 32, 9), (0, 335, 4), (0, 379, 3), (0, 296, 7), (0, 858, 10), (0, 50, 8)]\n"
          ]
        }
      ],
      "metadata": {
        "id": "qRjVafykwoyX",
        "colab": {
          "base_uri": "https://localhost:8080/"
        },
        "outputId": "64ff529d-1191-4fff-c6a7-b9bbdc449db9"
      },
      "execution_count": null
    },
    {
      "cell_type": "markdown",
      "source": [
        "Now we add them to the data we will use to train our recommender model. We use Spark's `union()` transformation for this.  "
      ],
      "metadata": {
        "id": "8aH7DdVSwoyX"
      }
    },
    {
      "cell_type": "code",
      "source": [
        "complete_data_with_new_ratings_RDD = complete_ratings_data.union(new_user_ratings_RDD)"
      ],
      "outputs": [],
      "metadata": {
        "id": "hYrLCHkuwoyX"
      },
      "execution_count": null
    },
    {
      "cell_type": "markdown",
      "source": [
        "And finally we train the ALS model using all the parameters we selected before (when using the small dataset)."
      ],
      "metadata": {
        "id": "iN4rBjZwwoyX"
      }
    },
    {
      "cell_type": "code",
      "source": [
        "from time import time\n",
        "\n",
        "t0 = time()\n",
        "new_ratings_model = ALS.train(complete_data_with_new_ratings_RDD, best_rank, seed=seed, \n",
        "                              iterations=iterations, lambda_=regularization_parameter)\n",
        "tt = time() - t0\n",
        "\n",
        "print(\"New model trained in %s seconds\" % round(tt,3))"
      ],
      "outputs": [
        {
          "output_type": "stream",
          "name": "stdout",
          "text": [
            "New model trained in 170.5 seconds\n"
          ]
        }
      ],
      "metadata": {
        "id": "lHXTTX6JwoyX",
        "colab": {
          "base_uri": "https://localhost:8080/"
        },
        "outputId": "7945c706-2357-4be1-f7d0-8d105d2f43eb"
      },
      "execution_count": null
    },
    {
      "cell_type": "markdown",
      "source": [
        "It took some time. We will need to repeat that every time a user add new ratings. Ideally we will do this in batches, and not for every single rating that comes into the system for every user."
      ],
      "metadata": {
        "id": "nlxmIx-swoyX"
      }
    },
    {
      "cell_type": "markdown",
      "source": [
        "###Getting top recommendations"
      ],
      "metadata": {
        "id": "O-YyyZEPwoyY"
      }
    },
    {
      "cell_type": "markdown",
      "source": [
        "Let's now get some recommendations! For that we will get an RDD with all the movies the new user hasn't rated yet. We will them together with the model to predict ratings.  "
      ],
      "metadata": {
        "id": "b1nPjjjxwoyY"
      }
    },
    {
      "cell_type": "code",
      "source": [
        "new_user_ratings_ids = map(lambda x: x[1], new_user_ratings) # get just movie IDs\n",
        "# keep just those not on the ID list (thanks Lei Li for spotting the error!)\n",
        "new_user_unrated_movies_RDD = (complete_movies_data.filter(lambda x: x[0] not in new_user_ratings_ids).map(lambda x: (new_user_ID, x[0])))\n",
        "\n",
        "# Use the input RDD, new_user_unrated_movies_RDD, with new_ratings_model.predictAll() to predict new ratings for the movies\n",
        "new_user_recommendations_RDD = new_ratings_model.predictAll(new_user_unrated_movies_RDD)"
      ],
      "outputs": [],
      "metadata": {
        "id": "FNao6IYPwoyY"
      },
      "execution_count": null
    },
    {
      "cell_type": "markdown",
      "source": [
        "We have our recommendations ready. Now we can print out the 25 movies with the highest predicted ratings. And join them with the movies RDD to get the titles, and ratings count in order to get movies with a minimum number of counts. First we will do the join and see what does the result looks like."
      ],
      "metadata": {
        "id": "A-3JuBAnwoyY"
      }
    },
    {
      "cell_type": "code",
      "source": [
        "# Transform new_user_recommendations_RDD into pairs of the form (Movie ID, Predicted Rating)\n",
        "new_user_recommendations_rating_RDD = new_user_recommendations_RDD.map(lambda x: (x.product, x.rating))\n",
        "new_user_recommendations_rating_title_and_count_RDD = \\\n",
        "    new_user_recommendations_rating_RDD.join(complete_movies_titles).join(movie_rating_counts_RDD)\n",
        "new_user_recommendations_rating_title_and_count_RDD.take(3)"
      ],
      "outputs": [
        {
          "output_type": "execute_result",
          "data": {
            "text/plain": [
              "[(6216,\n",
              "  ((7.173385575542827, 'Nowhere in Africa (Nirgendwo in Afrika) (2001)'),\n",
              "   717)),\n",
              " (124320, ((7.359570359697489, 'Once a Thief (1965)'), 1)),\n",
              " (83916, ((6.125867721800745, 'Blues in the Night (1941)'), 9))]"
            ]
          },
          "metadata": {},
          "execution_count": 43
        }
      ],
      "metadata": {
        "id": "_d9uUDcjwoyY",
        "colab": {
          "base_uri": "https://localhost:8080/"
        },
        "outputId": "1d7e9885-8201-42ac-9496-651f655254d4"
      },
      "execution_count": null
    },
    {
      "cell_type": "markdown",
      "source": [
        "So we need to flat this down a bit in order to have `(Title, Rating, Ratings Count)`."
      ],
      "metadata": {
        "id": "k1j5fn4EwoyY"
      }
    },
    {
      "cell_type": "code",
      "source": [
        "new_user_recommendations_rating_title_and_count_RDD = \\\n",
        "    new_user_recommendations_rating_title_and_count_RDD.map(lambda r: (r[1][0][1], r[1][0][0], r[1][1]))"
      ],
      "outputs": [],
      "metadata": {
        "id": "sdtKc56cwoyY"
      },
      "execution_count": null
    },
    {
      "cell_type": "markdown",
      "source": [
        "Finally, get the highest rated recommendations for the new user, filtering out movies with less than 25 ratings."
      ],
      "metadata": {
        "id": "bYb4t0DzwoyY"
      }
    },
    {
      "cell_type": "code",
      "source": [
        "top_movies = new_user_recommendations_rating_title_and_count_RDD.filter(lambda r: r[2]>=25).takeOrdered(25, key=lambda x: -x[1])\n",
        "\n",
        "print('TOP recommended movies (with more than 25 reviews):\\n%s' %\n",
        "        '\\n'.join(map(str, top_movies)))"
      ],
      "outputs": [
        {
          "output_type": "stream",
          "name": "stdout",
          "text": [
            "TOP recommended movies (with more than 25 reviews):\n",
            "('Rabbit of Seville (1950)', 8.60283332885939, 30)\n",
            "(\"Jim Henson's The Storyteller (1989)\", 8.544291232021493, 36)\n",
            "('\"Godfather', 8.52628915469041, 60904)\n",
            "('Cosmos', 8.52467364564589, 157)\n",
            "('Death on the Staircase (Soupçons) (2004)', 8.521656039332541, 130)\n",
            "('Music for One Apartment and Six Drummers (2001)', 8.502821262499474, 31)\n",
            "('\"Human Condition III', 8.495127363853982, 91)\n",
            "('Harakiri (Seppuku) (1962)', 8.494578606156566, 679)\n",
            "('\"I', 8.424360308543928, 85)\n",
            "('Planet Earth (2006)', 8.424323803290726, 1384)\n",
            "('Seven Samurai (Shichinin no samurai) (1954)', 8.400267161867603, 14578)\n",
            "('Planet Earth II (2016)', 8.398935611848366, 853)\n",
            "('Elway To Marino (2013)', 8.391344843680827, 25)\n",
            "('\"Last Lions', 8.391119159344683, 38)\n",
            "('Baseball (1994)', 8.390721419421908, 42)\n",
            "('Dr. Strangelove or: How I Learned to Stop Worrying and Love the Bomb (1964)', 8.388162211448673, 29484)\n",
            "('\"Godfather: Part II', 8.375398278118837, 38875)\n",
            "('The Godfather Trilogy: 1972-1990 (1992)', 8.369905593910595, 421)\n",
            "('Rabbit Fire (1951)', 8.368751322638992, 46)\n",
            "('\"Century of the Self', 8.364476108846738, 213)\n",
            "('Wow! A Talking Fish! (1983)', 8.362405770178015, 47)\n",
            "('Queen: Days of Our Lives (2011)', 8.348845326673057, 32)\n",
            "('The War (2007)', 8.348178095483902, 53)\n",
            "('\"Third Man', 8.347505384344196, 7980)\n",
            "('Paths of Glory (1957)', 8.347163445018865, 4508)\n"
          ]
        }
      ],
      "metadata": {
        "id": "bc8Vxgw5woyY",
        "colab": {
          "base_uri": "https://localhost:8080/"
        },
        "outputId": "349d5da8-7b1b-4b4c-c274-40d24224729f"
      },
      "execution_count": null
    },
    {
      "cell_type": "markdown",
      "source": [
        "###Getting individual ratings"
      ],
      "metadata": {
        "id": "Hmqz0XSgwoyY"
      }
    },
    {
      "cell_type": "markdown",
      "source": [
        "Another useful usecase is getting the predicted rating for a particular movie for a given user. The process is similar to the previous retreival of top recommendations but, instead of using `predcitAll` with every single movie the user hasn't rated yet, we will just pass the method a single entry with the movie we want to predict the rating for.  "
      ],
      "metadata": {
        "id": "4ueaUU5nwoyZ"
      }
    },
    {
      "cell_type": "code",
      "source": [
        "my_movie = sc.parallelize([(0, 500)]) # Quiz Show (1994)\n",
        "individual_movie_rating_RDD = new_ratings_model.predictAll(new_user_unrated_movies_RDD)\n",
        "individual_movie_rating_RDD.take(1)"
      ],
      "outputs": [
        {
          "output_type": "execute_result",
          "data": {
            "text/plain": [
              "[Rating(user=0, product=116688, rating=2.070225567265668)]"
            ]
          },
          "metadata": {},
          "execution_count": 46
        }
      ],
      "metadata": {
        "id": "eBRtDYUnwoyZ",
        "colab": {
          "base_uri": "https://localhost:8080/"
        },
        "outputId": "2630f4a6-232e-47b8-ffeb-7f2f2e1c3175"
      },
      "execution_count": null
    },
    {
      "cell_type": "markdown",
      "source": [
        "Not very likely that the new user will like that one... Obviously we can include as many movies as we need in that list!"
      ],
      "metadata": {
        "id": "VN0wJjylwoyZ"
      }
    },
    {
      "cell_type": "markdown",
      "source": [
        "##Persisting the model"
      ],
      "metadata": {
        "id": "Y-aaZqZlwoyZ"
      }
    },
    {
      "cell_type": "markdown",
      "source": [
        "Optionally, we might want to persist the base model for later use in our on-line recommendations. Although a new model is generated everytime we have new user ratings, it might be worth it to store the current one, in order to save time when starting up the server, etc. We might also save time if we persist some of the RDDs we have generated, specially those that took longer to process. For example, the following lines save and load a ALS model.      "
      ],
      "metadata": {
        "id": "72xY8oMCwoyZ"
      }
    },
    {
      "cell_type": "code",
      "source": [
        "from pyspark.mllib.recommendation import MatrixFactorizationModel\n",
        "\n",
        "model_path = os.path.join('..', 'models', 'movie_lens_als')\n",
        "\n",
        "# Save and load model\n",
        "model.save(sc, model_path)\n",
        "same_model = MatrixFactorizationModel.load(sc, model_path)"
      ],
      "outputs": [],
      "metadata": {
        "id": "hc4OidrbwoyZ"
      },
      "execution_count": null
    },
    {
      "cell_type": "markdown",
      "source": [
        "Among other things, you will see in your filesystem that there are folder with product and user data into [Parquet](https://parquet.apache.org/) format files.  "
      ],
      "metadata": {
        "id": "_M8G6rXawoyZ"
      }
    },
    {
      "cell_type": "markdown",
      "source": [
        "##Genre and other fields"
      ],
      "metadata": {
        "id": "uM2GYrL_woyZ"
      }
    },
    {
      "cell_type": "markdown",
      "source": [
        "We havent used the `genre` and `timestamp` fields in order to simplify the transformations and the whole tutorial. Incorporating them doesn't reprensent any problem. A good use could be filtering recommendations by any of them (e.g. recommendations by genre, or recent recommendations) like we have done with the minimum number of ratings.  "
      ],
      "metadata": {
        "id": "4dV4RPBewoyZ"
      }
    },
    {
      "cell_type": "markdown",
      "source": [
        "## Exercise\n",
        "\n",
        "In this example, rank is the only hyperparameter with value variation. Add additional inner loop to combine it with iteration using values 5, 10, and 20."
      ],
      "metadata": {
        "id": "NQysLKfj3NLF"
      }
    },
    {
      "cell_type": "code",
      "source": [
        "seed = 5\n",
        "regularization_parameter = 0.1\n",
        "ranks = [4, 8, 12]\n",
        "iterations_list = [5, 10, 20]\n",
        "tolerance = 0.02"
      ],
      "metadata": {
        "id": "WfUlgHhd3RhZ"
      },
      "execution_count": null,
      "outputs": []
    },
    {
      "cell_type": "code",
      "source": [
        "min_error = float('inf')\n",
        "best_rank = -1\n",
        "best_iteration = -1"
      ],
      "metadata": {
        "id": "HQFQvP7s4PVN"
      },
      "execution_count": null,
      "outputs": []
    },
    {
      "cell_type": "code",
      "source": [
        "for rank in ranks:\n",
        "    for iterations in iterations_list:\n",
        "        model = ALS.train(training_RDD, rank, seed=seed, iterations=iterations,\n",
        "                          lambda_=regularization_parameter)\n",
        "        predictions = model.predictAll(validation_for_predict_RDD).map(lambda r: ((r[0], r[1]), r[2]))\n",
        "        rates_and_preds = validation_RDD.map(lambda r: ((int(r[0]), int(r[1])), float(r[2]))).join(predictions)\n",
        "        error = math.sqrt(rates_and_preds.map(lambda r: (r[1][0] - r[1][1])**2).mean())\n",
        "        print('For rank %s and iteration %s the RMSE is %s' % (rank, iterations, error))\n",
        "        if error < min_error:\n",
        "            min_error = error\n",
        "            best_rank = rank\n",
        "            best_iteration = iterations"
      ],
      "metadata": {
        "colab": {
          "base_uri": "https://localhost:8080/"
        },
        "id": "aQ-PVYSV4Rvf",
        "outputId": "d6b974aa-1d5a-4865-b330-ab91c110641c"
      },
      "execution_count": null,
      "outputs": [
        {
          "output_type": "stream",
          "name": "stdout",
          "text": [
            "For rank 4 and iteration 5 the RMSE is 1.0990149964396436\n",
            "For rank 4 and iteration 10 the RMSE is 1.105242106906042\n",
            "For rank 4 and iteration 20 the RMSE is 1.0993634344211707\n",
            "For rank 8 and iteration 5 the RMSE is 1.1190397767017635\n",
            "For rank 8 and iteration 10 the RMSE is 1.1069925539923564\n",
            "For rank 8 and iteration 20 the RMSE is 1.1045547299792469\n",
            "For rank 12 and iteration 5 the RMSE is 1.123741553632609\n",
            "For rank 12 and iteration 10 the RMSE is 1.1165234823244978\n",
            "For rank 12 and iteration 20 the RMSE is 1.1100315245310677\n"
          ]
        }
      ]
    },
    {
      "cell_type": "code",
      "source": [
        "print('The best model was trained with rank %s and iteration %s' % (best_rank, best_iteration))"
      ],
      "metadata": {
        "colab": {
          "base_uri": "https://localhost:8080/"
        },
        "id": "liEZ_h_o4Yff",
        "outputId": "54946766-1d83-41de-bf25-e241f5e6a552"
      },
      "execution_count": null,
      "outputs": [
        {
          "output_type": "stream",
          "name": "stdout",
          "text": [
            "The best model was trained with rank 4 and iteration 5\n"
          ]
        }
      ]
    }
  ]
}