{
  "nbformat": 4,
  "nbformat_minor": 0,
  "metadata": {
    "colab": {
      "provenance": []
    },
    "kernelspec": {
      "name": "python3",
      "display_name": "Python 3"
    },
    "language_info": {
      "name": "python"
    }
  },
  "cells": [
    {
      "cell_type": "markdown",
      "source": [
        "Name : Ingwer Ludwig<br>\n",
        "NRP : 5025201259<br>"
      ],
      "metadata": {
        "id": "HA_o-tujXNaD"
      }
    },
    {
      "cell_type": "code",
      "source": [
        "#Make directory input and output\n",
        "!mkdir input-5025201259\n",
        "!mkdir output-5025201259\n",
        "!mkdir output-5025201259/path\n",
        "!mkdir output-5025201259/checkpoint"
      ],
      "metadata": {
        "id": "VPwrcoLSXYpi"
      },
      "execution_count": 1,
      "outputs": []
    },
    {
      "cell_type": "code",
      "source": [
        "#Download json files\n",
        "!wget --no-check-certificate 'https://docs.google.com/uc?export=download&id=19TQUEIE7mQYNPWuep4RYnKp03litnoqV' -O ./input-5025201259/news-1.json\n",
        "!wget --no-check-certificate 'https://docs.google.com/uc?export=download&id=19Wa1h30-lWtF0z6UGg7WIBsZeLK2Gz1W' -O ./input-5025201259/news-2.json\n",
        "!wget --no-check-certificate 'https://docs.google.com/uc?export=download&id=19Xl5pbiww7yZ1Pt_tbhkLcZgJMSPj__Y' -O ./input-5025201259/news-3.json\n",
        "\n",
        "\n"
      ],
      "metadata": {
        "colab": {
          "base_uri": "https://localhost:8080/"
        },
        "id": "Q_AJZDFST-WD",
        "outputId": "96715a3f-357e-4033-a5a6-6ed3343ddc27"
      },
      "execution_count": 2,
      "outputs": [
        {
          "output_type": "stream",
          "name": "stdout",
          "text": [
            "--2023-04-14 03:01:22--  https://docs.google.com/uc?export=download&id=19TQUEIE7mQYNPWuep4RYnKp03litnoqV\n",
            "Resolving docs.google.com (docs.google.com)... 142.251.16.113, 142.251.16.138, 142.251.16.101, ...\n",
            "Connecting to docs.google.com (docs.google.com)|142.251.16.113|:443... connected.\n",
            "HTTP request sent, awaiting response... 303 See Other\n",
            "Location: https://doc-0s-88-docs.googleusercontent.com/docs/securesc/ha0ro937gcuc7l7deffksulhg5h7mbp1/ddgps0nlitto7l246h1mkotqreiovls5/1681441275000/07765186029080978570/*/19TQUEIE7mQYNPWuep4RYnKp03litnoqV?e=download&uuid=f56e8362-ba10-4154-a26a-b6ebcf91d0ce [following]\n",
            "Warning: wildcards not supported in HTTP.\n",
            "--2023-04-14 03:01:22--  https://doc-0s-88-docs.googleusercontent.com/docs/securesc/ha0ro937gcuc7l7deffksulhg5h7mbp1/ddgps0nlitto7l246h1mkotqreiovls5/1681441275000/07765186029080978570/*/19TQUEIE7mQYNPWuep4RYnKp03litnoqV?e=download&uuid=f56e8362-ba10-4154-a26a-b6ebcf91d0ce\n",
            "Resolving doc-0s-88-docs.googleusercontent.com (doc-0s-88-docs.googleusercontent.com)... 172.253.62.132, 2607:f8b0:4004:c07::84\n",
            "Connecting to doc-0s-88-docs.googleusercontent.com (doc-0s-88-docs.googleusercontent.com)|172.253.62.132|:443... connected.\n",
            "HTTP request sent, awaiting response... 200 OK\n",
            "Length: 2239 (2.2K) [application/json]\n",
            "Saving to: ‘./input-5025201259/news-1.json’\n",
            "\n",
            "./input-5025201259/ 100%[===================>]   2.19K  --.-KB/s    in 0s      \n",
            "\n",
            "2023-04-14 03:01:23 (79.3 MB/s) - ‘./input-5025201259/news-1.json’ saved [2239/2239]\n",
            "\n",
            "--2023-04-14 03:01:23--  https://docs.google.com/uc?export=download&id=19Wa1h30-lWtF0z6UGg7WIBsZeLK2Gz1W\n",
            "Resolving docs.google.com (docs.google.com)... 142.251.16.113, 142.251.16.138, 142.251.16.101, ...\n",
            "Connecting to docs.google.com (docs.google.com)|142.251.16.113|:443... connected.\n",
            "HTTP request sent, awaiting response... 303 See Other\n",
            "Location: https://doc-04-88-docs.googleusercontent.com/docs/securesc/ha0ro937gcuc7l7deffksulhg5h7mbp1/tbkg6nnpg6m8m8iskdg6ovi9339itlcp/1681441275000/07765186029080978570/*/19Wa1h30-lWtF0z6UGg7WIBsZeLK2Gz1W?e=download&uuid=69c28bad-ee74-46ed-81cd-0b8c443a86b0 [following]\n",
            "Warning: wildcards not supported in HTTP.\n",
            "--2023-04-14 03:01:23--  https://doc-04-88-docs.googleusercontent.com/docs/securesc/ha0ro937gcuc7l7deffksulhg5h7mbp1/tbkg6nnpg6m8m8iskdg6ovi9339itlcp/1681441275000/07765186029080978570/*/19Wa1h30-lWtF0z6UGg7WIBsZeLK2Gz1W?e=download&uuid=69c28bad-ee74-46ed-81cd-0b8c443a86b0\n",
            "Resolving doc-04-88-docs.googleusercontent.com (doc-04-88-docs.googleusercontent.com)... 172.253.62.132, 2607:f8b0:4004:c07::84\n",
            "Connecting to doc-04-88-docs.googleusercontent.com (doc-04-88-docs.googleusercontent.com)|172.253.62.132|:443... connected.\n",
            "HTTP request sent, awaiting response... 200 OK\n",
            "Length: 4320 (4.2K) [application/json]\n",
            "Saving to: ‘./input-5025201259/news-2.json’\n",
            "\n",
            "./input-5025201259/ 100%[===================>]   4.22K  --.-KB/s    in 0s      \n",
            "\n",
            "2023-04-14 03:01:24 (31.3 MB/s) - ‘./input-5025201259/news-2.json’ saved [4320/4320]\n",
            "\n",
            "--2023-04-14 03:01:24--  https://docs.google.com/uc?export=download&id=19Xl5pbiww7yZ1Pt_tbhkLcZgJMSPj__Y\n",
            "Resolving docs.google.com (docs.google.com)... 142.251.16.113, 142.251.16.138, 142.251.16.101, ...\n",
            "Connecting to docs.google.com (docs.google.com)|142.251.16.113|:443... connected.\n",
            "HTTP request sent, awaiting response... 303 See Other\n",
            "Location: https://doc-10-88-docs.googleusercontent.com/docs/securesc/ha0ro937gcuc7l7deffksulhg5h7mbp1/jfh928r6qtemqt5ksk8lje4811vafj4q/1681441275000/07765186029080978570/*/19Xl5pbiww7yZ1Pt_tbhkLcZgJMSPj__Y?e=download&uuid=ade2c336-af6a-4254-8487-65eebf8adcb1 [following]\n",
            "Warning: wildcards not supported in HTTP.\n",
            "--2023-04-14 03:01:24--  https://doc-10-88-docs.googleusercontent.com/docs/securesc/ha0ro937gcuc7l7deffksulhg5h7mbp1/jfh928r6qtemqt5ksk8lje4811vafj4q/1681441275000/07765186029080978570/*/19Xl5pbiww7yZ1Pt_tbhkLcZgJMSPj__Y?e=download&uuid=ade2c336-af6a-4254-8487-65eebf8adcb1\n",
            "Resolving doc-10-88-docs.googleusercontent.com (doc-10-88-docs.googleusercontent.com)... 172.253.62.132, 2607:f8b0:4004:c07::84\n",
            "Connecting to doc-10-88-docs.googleusercontent.com (doc-10-88-docs.googleusercontent.com)|172.253.62.132|:443... connected.\n",
            "HTTP request sent, awaiting response... 200 OK\n",
            "Length: 5076 (5.0K) [application/json]\n",
            "Saving to: ‘./input-5025201259/news-3.json’\n",
            "\n",
            "./input-5025201259/ 100%[===================>]   4.96K  --.-KB/s    in 0s      \n",
            "\n",
            "2023-04-14 03:01:24 (27.2 MB/s) - ‘./input-5025201259/news-3.json’ saved [5076/5076]\n",
            "\n"
          ]
        }
      ]
    },
    {
      "cell_type": "code",
      "execution_count": 3,
      "metadata": {
        "id": "pXev1E0ae5IX",
        "colab": {
          "base_uri": "https://localhost:8080/"
        },
        "outputId": "e59be71f-93ff-4d35-eb47-fd920d08fbf7"
      },
      "outputs": [
        {
          "output_type": "stream",
          "name": "stdout",
          "text": [
            "Looking in indexes: https://pypi.org/simple, https://us-python.pkg.dev/colab-wheels/public/simple/\n",
            "Collecting pyspark\n",
            "  Downloading pyspark-3.4.0.tar.gz (310.8 MB)\n",
            "\u001b[2K     \u001b[90m━━━━━━━━━━━━━━━━━━━━━━━━━━━━━━━━━━━━━━━\u001b[0m \u001b[32m310.8/310.8 MB\u001b[0m \u001b[31m4.1 MB/s\u001b[0m eta \u001b[36m0:00:00\u001b[0m\n",
            "\u001b[?25h  Preparing metadata (setup.py) ... \u001b[?25l\u001b[?25hdone\n",
            "Requirement already satisfied: py4j==0.10.9.7 in /usr/local/lib/python3.9/dist-packages (from pyspark) (0.10.9.7)\n",
            "Building wheels for collected packages: pyspark\n",
            "  Building wheel for pyspark (setup.py) ... \u001b[?25l\u001b[?25hdone\n",
            "  Created wheel for pyspark: filename=pyspark-3.4.0-py2.py3-none-any.whl size=311317145 sha256=a28e369bc6b49a34a5f1cf32c2226e0275ab655a9b0da9f03d044c6497a56e14\n",
            "  Stored in directory: /root/.cache/pip/wheels/9f/34/a4/159aa12d0a510d5ff7c8f0220abbea42e5d81ecf588c4fd884\n",
            "Successfully built pyspark\n",
            "Installing collected packages: pyspark\n",
            "Successfully installed pyspark-3.4.0\n"
          ]
        }
      ],
      "source": [
        "!pip install pyspark"
      ]
    },
    {
      "cell_type": "markdown",
      "source": [
        "## Initiate the Spark session"
      ],
      "metadata": {
        "id": "u9ByxoR7pCjo"
      }
    },
    {
      "cell_type": "code",
      "source": [
        "# Import Apache Spark SQL\n",
        "from pyspark.sql import SparkSession\n",
        "\n",
        "# Create Spark Session/Context\n",
        "# We are using local machine with all the CPU cores [*]\n",
        "spark = SparkSession.builder \\\n",
        "    .master(\"local[*]\") \\\n",
        "    .appName(\"Hello Pyspark\") \\\n",
        "    .config(\"spark.some.config.option\", \"some-value\") \\\n",
        "    .getOrCreate()"
      ],
      "metadata": {
        "id": "ie-foHslfHX0"
      },
      "execution_count": 4,
      "outputs": []
    },
    {
      "cell_type": "code",
      "source": [
        "import json\n",
        "\n",
        "# Open the JSON file in read mode\n",
        "with open('./input-5025201259/news-1.json') as f:\n",
        "    for line in f:\n",
        "        data = json.loads(line)\n",
        "        json_string = json.dumps(data, indent=4)\n",
        "        print(data)\n",
        "\n",
        "# Print the Python object\n",
        "print(data)"
      ],
      "metadata": {
        "colab": {
          "base_uri": "https://localhost:8080/"
        },
        "id": "Ypjka1dpUcjB",
        "outputId": "c444eb38-851b-414f-da5d-515ef970e5c5"
      },
      "execution_count": 5,
      "outputs": [
        {
          "output_type": "stream",
          "name": "stdout",
          "text": [
            "{'link': 'https://www.huffpost.com/entry/covid-boosters-uptake-us_n_632d719ee4b087fae6feaac9', 'headline': 'Over 4 Million Americans Roll Up Sleeves For Omicron-Targeted COVID Boosters', 'category': 'U.S. NEWS', 'short_description': 'Health experts said it is too early to predict whether demand would match up with the 171 million doses of the new boosters the U.S. ordered for the fall.', 'authors': 'Carla K. Johnson, AP', 'date': '2022-09-23'}\n",
            "{'link': 'https://www.huffpost.com/entry/american-airlines-passenger-banned-flight-attendant-punch-justice-department_n_632e25d3e4b0e247890329fe', 'headline': 'American Airlines Flyer Charged, Banned For Life After Punching Flight Attendant On Video', 'category': 'U.S. NEWS', 'short_description': \"He was subdued by passengers and crew when he fled to the back of the aircraft after the confrontation, according to the U.S. attorney's office in Los Angeles.\", 'authors': 'Mary Papenfuss', 'date': '2022-09-23'}\n",
            "{'link': 'https://www.huffpost.com/entry/funniest-tweets-cats-dogs-september-17-23_n_632de332e4b0695c1d81dc02', 'headline': '23 Of The Funniest Tweets About Cats And Dogs This Week (Sept. 17-23)', 'category': 'COMEDY', 'short_description': '\"Until you have a dog you don\\'t understand what could be eaten.\"', 'authors': 'Elyse Wanshel', 'date': '2022-09-23'}\n",
            "{'link': 'https://www.huffpost.com/entry/funniest-parenting-tweets_l_632d7d15e4b0d12b5403e479', 'headline': 'The Funniest Tweets From Parents This Week (Sept. 17-23)', 'category': 'PARENTING', 'short_description': '\"Accidentally put grown-up toothpaste on my toddler’s toothbrush and he screamed like I was cleaning his teeth with a Carolina Reaper dipped in Tabasco sauce.\"', 'authors': 'Caroline Bologna', 'date': '2022-09-23'}\n",
            "{'link': 'https://www.huffpost.com/entry/amy-cooper-loses-discrimination-lawsuit-franklin-templeton_n_632c6463e4b09d8701bd227e', 'headline': 'Woman Who Called Cops On Black Bird-Watcher Loses Lawsuit Against Ex-Employer', 'category': 'U.S. NEWS', 'short_description': 'Amy Cooper accused investment firm Franklin Templeton of unfairly firing her and branding her a racist after video of the Central Park encounter went viral.', 'authors': 'Nina Golgowski', 'date': '2022-09-22'}\n",
            "{'link': 'https://www.huffpost.com/entry/amy-cooper-loses-discrimination-lawsuit-franklin-templeton_n_632c6463e4b09d8701bd227e', 'headline': 'Woman Who Called Cops On Black Bird-Watcher Loses Lawsuit Against Ex-Employer', 'category': 'U.S. NEWS', 'short_description': 'Amy Cooper accused investment firm Franklin Templeton of unfairly firing her and branding her a racist after video of the Central Park encounter went viral.', 'authors': 'Nina Golgowski', 'date': '2022-09-22'}\n"
          ]
        }
      ]
    },
    {
      "cell_type": "markdown",
      "source": [
        "The columns are :<br>\n",
        "link<br>\n",
        "headline<br>\n",
        "category<br>\n",
        "short_description<br>\n",
        "authors<br>\n",
        "date<br>"
      ],
      "metadata": {
        "id": "qPXHvj0iWq9P"
      }
    },
    {
      "cell_type": "markdown",
      "source": [
        "## Define the data structure"
      ],
      "metadata": {
        "id": "KRk6bxKdpFcP"
      }
    },
    {
      "cell_type": "code",
      "source": [
        "from pyspark.sql.types import StructType,StructField, StringType, IntegerType, DateType\n",
        "\n",
        "schema = StructType([\\\n",
        "        StructField(\"link\", StringType(), True),\\\n",
        "        StructField(\"headline\", StringType(), True),\\\n",
        "        StructField(\"category\", StringType(), True),\\\n",
        "        StructField(\"short_description\", StringType(), True),\\\n",
        "        StructField(\"authors\", StringType(), True),\\\n",
        "        StructField(\"date\", DateType(), True),\\\n",
        "])"
      ],
      "metadata": {
        "id": "TDZ2fVBrfoWj"
      },
      "execution_count": 6,
      "outputs": []
    },
    {
      "cell_type": "markdown",
      "source": [
        "## Determine the folder location"
      ],
      "metadata": {
        "id": "nTsOfST_pIOh"
      }
    },
    {
      "cell_type": "code",
      "source": [
        "#The folder is our previously made folder\n",
        "df = spark.readStream.schema(schema).json(\"./input-5025201259/\")"
      ],
      "metadata": {
        "id": "O0AUBMkzgbzy"
      },
      "execution_count": 7,
      "outputs": []
    },
    {
      "cell_type": "code",
      "source": [
        "df.printSchema()"
      ],
      "metadata": {
        "id": "M_CY5TuWgna-",
        "colab": {
          "base_uri": "https://localhost:8080/"
        },
        "outputId": "174002df-9c71-416b-d48d-d5ddc2285ab9"
      },
      "execution_count": 8,
      "outputs": [
        {
          "output_type": "stream",
          "name": "stdout",
          "text": [
            "root\n",
            " |-- link: string (nullable = true)\n",
            " |-- headline: string (nullable = true)\n",
            " |-- category: string (nullable = true)\n",
            " |-- short_description: string (nullable = true)\n",
            " |-- authors: string (nullable = true)\n",
            " |-- date: date (nullable = true)\n",
            "\n"
          ]
        }
      ]
    },
    {
      "cell_type": "markdown",
      "source": [
        "## Do the aggregation step"
      ],
      "metadata": {
        "id": "kT7Pd2_2pLAX"
      }
    },
    {
      "cell_type": "code",
      "source": [
        "groupDF = df.select(\"headline\").groupBy(\"headline\").count()\n",
        "\n",
        "groupDF.printSchema()"
      ],
      "metadata": {
        "id": "s_S_x4jvgpUP"
      },
      "execution_count": null,
      "outputs": []
    },
    {
      "cell_type": "markdown",
      "source": [
        "## Start the streaming task"
      ],
      "metadata": {
        "id": "bqXN02f_pOC1"
      }
    },
    {
      "cell_type": "code",
      "source": [
        "result = groupDF.writeStream\\\n",
        "  .format(\"console\")\\\n",
        "  .option(\"path\", \"./output-5025201259/path\")\\\n",
        "  .option(\"checkpointLocation\", \"./output-5025201259/checkpoint\")\\\n",
        "  .outputMode(\"complete\")\\\n",
        "  .start()\n",
        "\n",
        "\n",
        "result.awaitTermination()"
      ],
      "metadata": {
        "id": "gy2bVWyfg1_p"
      },
      "execution_count": null,
      "outputs": []
    },
    {
      "cell_type": "markdown",
      "source": [
        "The output can be seen in the file explorer inside google collab"
      ],
      "metadata": {
        "id": "mR22e7J_kvy-"
      }
    }
  ]
}