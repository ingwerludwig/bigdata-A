{
  "cells": [
    {
      "cell_type": "markdown",
      "metadata": {
        "id": "PhsI1g58CZpg"
      },
      "source": [
        "# Midterm Exam Big Data\n",
        "- Name : Ingwer Ludwig\n",
        "- NRP : 5025201259"
      ]
    },
    {
      "cell_type": "markdown",
      "source": [
        "# Install Libraries"
      ],
      "metadata": {
        "id": "t2Hxgm4PjVCl"
      }
    },
    {
      "cell_type": "code",
      "execution_count": null,
      "metadata": {
        "colab": {
          "base_uri": "https://localhost:8080/"
        },
        "id": "UIzbt0Gn6QnN",
        "outputId": "bf3a7743-c0e5-4204-cce5-a0368a443164"
      },
      "outputs": [
        {
          "output_type": "stream",
          "name": "stdout",
          "text": [
            "Requirement already satisfied: pyspark in /usr/local/lib/python3.7/dist-packages (3.2.1)\n",
            "Requirement already satisfied: py4j==0.10.9.3 in /usr/local/lib/python3.7/dist-packages (from pyspark) (0.10.9.3)\n"
          ]
        }
      ],
      "source": [
        "# Install Apache Spark\n",
        "!pip install pyspark"
      ]
    },
    {
      "cell_type": "code",
      "execution_count": null,
      "metadata": {
        "id": "PbKhq6mg62wR"
      },
      "outputs": [],
      "source": [
        "# Import required libraries\n",
        "\n",
        "from pyspark.sql import SparkSession\n",
        "from pyspark.sql.functions import *\n",
        "from pyspark.ml.fpm import FPGrowth\n"
      ]
    },
    {
      "cell_type": "markdown",
      "source": [
        "# Initialize Spark Session"
      ],
      "metadata": {
        "id": "HrMmlZ72jXy5"
      }
    },
    {
      "cell_type": "code",
      "execution_count": null,
      "metadata": {
        "id": "dIVNb2Bj645r"
      },
      "outputs": [],
      "source": [
        "# Create Spark Session/Context\n",
        "spark = SparkSession.builder \\\n",
        "    .master(\"local\") \\\n",
        "    .appName(\"Frequent Itemset\") \\\n",
        "    .config(\"spark.some.config.option\", \"some-value\") \\\n",
        "    .getOrCreate()"
      ]
    },
    {
      "cell_type": "markdown",
      "source": [
        "# Import Dataset"
      ],
      "metadata": {
        "id": "rXL67G15jd6k"
      }
    },
    {
      "cell_type": "code",
      "source": [
        "from google.colab import drive\n",
        "drive.mount('/content/gdrive')"
      ],
      "metadata": {
        "colab": {
          "base_uri": "https://localhost:8080/"
        },
        "id": "ZZOuRWkIg-OY",
        "outputId": "2694bd2b-d2f2-4fdd-d1ec-e8792dc6ae74"
      },
      "execution_count": null,
      "outputs": [
        {
          "output_type": "stream",
          "name": "stdout",
          "text": [
            "Drive already mounted at /content/gdrive; to attempt to forcibly remount, call drive.mount(\"/content/gdrive\", force_remount=True).\n"
          ]
        }
      ]
    },
    {
      "cell_type": "code",
      "execution_count": null,
      "metadata": {
        "colab": {
          "base_uri": "https://localhost:8080/"
        },
        "id": "KDr-fmpv84J9",
        "outputId": "0a708b91-601a-4424-f05e-88d993007bec"
      },
      "outputs": [
        {
          "output_type": "stream",
          "name": "stdout",
          "text": [
            "+------+--------------------+--------+----------------+-----+----------+--------------+\n",
            "|BillNo|            Itemname|Quantity|            Date|Price|CustomerID|       Country|\n",
            "+------+--------------------+--------+----------------+-----+----------+--------------+\n",
            "|536365|WHITE HANGING HEA...|       6|01.12.2010 08:26| 2,55|     17850|United Kingdom|\n",
            "|536365| WHITE METAL LANTERN|       6|01.12.2010 08:26| 3,39|     17850|United Kingdom|\n",
            "|536365|CREAM CUPID HEART...|       8|01.12.2010 08:26| 2,75|     17850|United Kingdom|\n",
            "|536365|KNITTED UNION FLA...|       6|01.12.2010 08:26| 3,39|     17850|United Kingdom|\n",
            "|536365|RED WOOLLY HOTTIE...|       6|01.12.2010 08:26| 3,39|     17850|United Kingdom|\n",
            "|536365|SET 7 BABUSHKA NE...|       2|01.12.2010 08:26| 7,65|     17850|United Kingdom|\n",
            "|536365|GLASS STAR FROSTE...|       6|01.12.2010 08:26| 4,25|     17850|United Kingdom|\n",
            "|536366|HAND WARMER UNION...|       6|01.12.2010 08:28| 1,85|     17850|United Kingdom|\n",
            "|536366|HAND WARMER RED P...|       6|01.12.2010 08:28| 1,85|     17850|United Kingdom|\n",
            "|536367|ASSORTED COLOUR B...|      32|01.12.2010 08:34| 1,69|     13047|United Kingdom|\n",
            "|536367|POPPY'S PLAYHOUSE...|       6|01.12.2010 08:34|  2,1|     13047|United Kingdom|\n",
            "|536367|POPPY'S PLAYHOUSE...|       6|01.12.2010 08:34|  2,1|     13047|United Kingdom|\n",
            "|536367|FELTCRAFT PRINCES...|       8|01.12.2010 08:34| 3,75|     13047|United Kingdom|\n",
            "|536367|IVORY KNITTED MUG...|       6|01.12.2010 08:34| 1,65|     13047|United Kingdom|\n",
            "|536367|BOX OF 6 ASSORTED...|       6|01.12.2010 08:34| 4,25|     13047|United Kingdom|\n",
            "|536367|BOX OF VINTAGE JI...|       3|01.12.2010 08:34| 4,95|     13047|United Kingdom|\n",
            "|536367|BOX OF VINTAGE AL...|       2|01.12.2010 08:34| 9,95|     13047|United Kingdom|\n",
            "|536367|HOME BUILDING BLO...|       3|01.12.2010 08:34| 5,95|     13047|United Kingdom|\n",
            "|536367|LOVE BUILDING BLO...|       3|01.12.2010 08:34| 5,95|     13047|United Kingdom|\n",
            "|536367|RECIPE BOX WITH M...|       4|01.12.2010 08:34| 7,95|     13047|United Kingdom|\n",
            "+------+--------------------+--------+----------------+-----+----------+--------------+\n",
            "only showing top 20 rows\n",
            "\n"
          ]
        }
      ],
      "source": [
        "# Import the data from CSV\n",
        "data = spark.read.option(\"header\", True).option(\"delimiter\", \";\").csv(\"/content/gdrive/My Drive/market-basket.csv\")\n",
        "\n",
        "data.show()"
      ]
    },
    {
      "cell_type": "code",
      "execution_count": null,
      "metadata": {
        "colab": {
          "base_uri": "https://localhost:8080/"
        },
        "id": "VpSKdt-k-XMT",
        "outputId": "752d8518-4bd6-4b36-b0db-9460ade7d5a1"
      },
      "outputs": [
        {
          "output_type": "stream",
          "name": "stdout",
          "text": [
            "+------+--------------------+\n",
            "|BillNo|            Itemname|\n",
            "+------+--------------------+\n",
            "|536365|WHITE HANGING HEA...|\n",
            "|536365| WHITE METAL LANTERN|\n",
            "|536365|CREAM CUPID HEART...|\n",
            "|536365|KNITTED UNION FLA...|\n",
            "|536365|RED WOOLLY HOTTIE...|\n",
            "|536365|SET 7 BABUSHKA NE...|\n",
            "|536365|GLASS STAR FROSTE...|\n",
            "|536366|HAND WARMER UNION...|\n",
            "|536366|HAND WARMER RED P...|\n",
            "|536367|ASSORTED COLOUR B...|\n",
            "|536367|POPPY'S PLAYHOUSE...|\n",
            "|536367|POPPY'S PLAYHOUSE...|\n",
            "|536367|FELTCRAFT PRINCES...|\n",
            "|536367|IVORY KNITTED MUG...|\n",
            "|536367|BOX OF 6 ASSORTED...|\n",
            "|536367|BOX OF VINTAGE JI...|\n",
            "|536367|BOX OF VINTAGE AL...|\n",
            "|536367|HOME BUILDING BLO...|\n",
            "|536367|LOVE BUILDING BLO...|\n",
            "|536367|RECIPE BOX WITH M...|\n",
            "+------+--------------------+\n",
            "only showing top 20 rows\n",
            "\n"
          ]
        }
      ],
      "source": [
        "# Select only the first two column\n",
        "itemlist = data.select(\"BillNo\", \"Itemname\")\n",
        "itemlist.show()"
      ]
    },
    {
      "cell_type": "code",
      "execution_count": null,
      "metadata": {
        "colab": {
          "base_uri": "https://localhost:8080/"
        },
        "id": "Y-nBPhHjCDJO",
        "outputId": "46642281-9f32-43b8-91d9-29a56d9c9b25"
      },
      "outputs": [
        {
          "output_type": "execute_result",
          "data": {
            "text/plain": [
              "522064"
            ]
          },
          "metadata": {},
          "execution_count": 76
        }
      ],
      "source": [
        "# Before dropping the duplicates\n",
        "itemlist.count()"
      ]
    },
    {
      "cell_type": "code",
      "execution_count": null,
      "metadata": {
        "colab": {
          "base_uri": "https://localhost:8080/"
        },
        "id": "Eyh4hrBCCesS",
        "outputId": "73431510-b7e7-4676-f361-884624a3220c"
      },
      "outputs": [
        {
          "output_type": "execute_result",
          "data": {
            "text/plain": [
              "511280"
            ]
          },
          "metadata": {},
          "execution_count": 77
        }
      ],
      "source": [
        "# Remove the duplicates\n",
        "item_raw = itemlist.dropDuplicates([\"BillNo\", \"Itemname\"])\n",
        "item_raw.count()"
      ]
    },
    {
      "cell_type": "markdown",
      "metadata": {
        "id": "92zalRQTD6Ce"
      },
      "source": [
        "There is no duplicate data"
      ]
    },
    {
      "cell_type": "code",
      "execution_count": null,
      "metadata": {
        "colab": {
          "base_uri": "https://localhost:8080/"
        },
        "id": "xyeGPN8d_WNw",
        "outputId": "7d1f33d7-dce9-404b-d147-11508d803e91"
      },
      "outputs": [
        {
          "output_type": "stream",
          "name": "stdout",
          "text": [
            "+------+--------------------+\n",
            "|BillNo|                item|\n",
            "+------+--------------------+\n",
            "|536365|[KNITTED UNION FL...|\n",
            "|536366|[HAND WARMER UNIO...|\n",
            "|536367|[BOX OF VINTAGE J...|\n",
            "|536368|[YELLOW COAT RACK...|\n",
            "|536369|[BATH BUILDING BL...|\n",
            "|536370|[SPACEBOY LUNCH B...|\n",
            "|536371|[PAPER CHAIN KIT ...|\n",
            "|536372|[HAND WARMER UNIO...|\n",
            "|536373|[GLASS STAR FROST...|\n",
            "|536374|[VICTORIAN SEWING...|\n",
            "|536375|[SAVE THE PLANET ...|\n",
            "|536376|[RED HANGING HEAR...|\n",
            "|536377|[HAND WARMER RED ...|\n",
            "|536378|[PACK OF 60 PINK ...|\n",
            "|536380|[JAM MAKING SET P...|\n",
            "|536381|[ZINC WILLIE WINK...|\n",
            "|536382|[VINTAGE SNAKES &...|\n",
            "|536384|[ENAMEL BREAD BIN...|\n",
            "|536385|[TRADITIONAL CHRI...|\n",
            "|536386|[JUMBO BAG RED RE...|\n",
            "+------+--------------------+\n",
            "only showing top 20 rows\n",
            "\n"
          ]
        }
      ],
      "source": [
        "# Convert into this format: [\"id\", \"items\"] = [1, [a, b, c]]\n",
        "# You can use groupBy, agg, and collect_list methods\n",
        "\n",
        "item_input = item_raw.groupBy(\"BillNo\").agg(collect_list('Itemname').alias('item'))\n",
        "item_input.show()"
      ]
    },
    {
      "cell_type": "code",
      "source": [
        "dh_new = item_input.withColumn(\"item\", array(item_input[\"item\"]))\n",
        "dh_new.show()"
      ],
      "metadata": {
        "colab": {
          "base_uri": "https://localhost:8080/"
        },
        "id": "47jiPh1CoxFg",
        "outputId": "0a632678-5cd8-4d9a-a21c-376456681541"
      },
      "execution_count": null,
      "outputs": [
        {
          "output_type": "stream",
          "name": "stdout",
          "text": [
            "+------+--------------------+\n",
            "|BillNo|                item|\n",
            "+------+--------------------+\n",
            "|536365|[[KNITTED UNION F...|\n",
            "|536366|[[HAND WARMER UNI...|\n",
            "|536367|[[BOX OF VINTAGE ...|\n",
            "|536368|[[YELLOW COAT RAC...|\n",
            "|536369|[[BATH BUILDING B...|\n",
            "|536370|[[SPACEBOY LUNCH ...|\n",
            "|536371|[[PAPER CHAIN KIT...|\n",
            "|536372|[[HAND WARMER UNI...|\n",
            "|536373|[[GLASS STAR FROS...|\n",
            "|536374|[[VICTORIAN SEWIN...|\n",
            "|536375|[[SAVE THE PLANET...|\n",
            "|536376|[[RED HANGING HEA...|\n",
            "|536377|[[HAND WARMER RED...|\n",
            "|536378|[[PACK OF 60 PINK...|\n",
            "|536380|[[JAM MAKING SET ...|\n",
            "|536381|[[ZINC WILLIE WIN...|\n",
            "|536382|[[VINTAGE SNAKES ...|\n",
            "|536384|[[ENAMEL BREAD BI...|\n",
            "|536385|[[TRADITIONAL CHR...|\n",
            "|536386|[[JUMBO BAG RED R...|\n",
            "+------+--------------------+\n",
            "only showing top 20 rows\n",
            "\n"
          ]
        }
      ]
    },
    {
      "cell_type": "markdown",
      "source": [
        "# Experiment with different minSupport and minConfidence"
      ],
      "metadata": {
        "id": "pXoUPZJIj26y"
      }
    },
    {
      "cell_type": "code",
      "source": [
        "min_support= [0.1, 0.25, 0.5]\n",
        "min_confidence = [0.25, 0.5]"
      ],
      "metadata": {
        "id": "HC_0U1MRoacC"
      },
      "execution_count": null,
      "outputs": []
    },
    {
      "cell_type": "code",
      "execution_count": null,
      "metadata": {
        "id": "Ds4qZrOnA58G"
      },
      "outputs": [],
      "source": [
        "def fpGrowthModel(ms, mc):\n",
        "  for x in min_support:\n",
        "    for y in min_confidence:\n",
        "      # 1. Create the instance\n",
        "      fpGrowth = FPGrowth(itemsCol=\"item\", minSupport=x, minConfidence=y)\n",
        "\n",
        "      # 2. Train/fit the data training to become a model\n",
        "      model = fpGrowth.fit(dh_new)\n",
        "      print(f\"minSupport: {x}, minConfidence: {y}\")\n",
        "\n",
        "\n",
        "      # Display frequent itemsets.\n",
        "      model.freqItemsets.show()\n",
        "\n",
        "      # Display generated association rules.\n",
        "      model.associationRules.show()\n",
        "\n",
        "      # transform examines the input items against all the association rules and summarize the\n",
        "      # consequents as prediction\n",
        "      model.transform(dh_new).show()"
      ]
    },
    {
      "cell_type": "code",
      "source": [
        "fpGrowthModel(min_support,min_confidence)"
      ],
      "metadata": {
        "colab": {
          "base_uri": "https://localhost:8080/"
        },
        "id": "iVHURpKepWer",
        "outputId": "3a9819ca-6730-4222-9af4-9419f7ec042c"
      },
      "execution_count": null,
      "outputs": [
        {
          "output_type": "stream",
          "name": "stdout",
          "text": [
            "minSupport: 0.1, minConfidence: 0.25\n",
            "+-----+----+\n",
            "|items|freq|\n",
            "+-----+----+\n",
            "+-----+----+\n",
            "\n",
            "+----------+----------+----------+----+-------+\n",
            "|antecedent|consequent|confidence|lift|support|\n",
            "+----------+----------+----------+----+-------+\n",
            "+----------+----------+----------+----+-------+\n",
            "\n",
            "+------+--------------------+----------+\n",
            "|BillNo|                item|prediction|\n",
            "+------+--------------------+----------+\n",
            "|536365|[[KNITTED UNION F...|        []|\n",
            "|536366|[[HAND WARMER UNI...|        []|\n",
            "|536367|[[BOX OF VINTAGE ...|        []|\n",
            "|536368|[[YELLOW COAT RAC...|        []|\n",
            "|536369|[[BATH BUILDING B...|        []|\n",
            "|536370|[[SPACEBOY LUNCH ...|        []|\n",
            "|536371|[[PAPER CHAIN KIT...|        []|\n",
            "|536372|[[HAND WARMER UNI...|        []|\n",
            "|536373|[[GLASS STAR FROS...|        []|\n",
            "|536374|[[VICTORIAN SEWIN...|        []|\n",
            "|536375|[[SAVE THE PLANET...|        []|\n",
            "|536376|[[RED HANGING HEA...|        []|\n",
            "|536377|[[HAND WARMER RED...|        []|\n",
            "|536378|[[PACK OF 60 PINK...|        []|\n",
            "|536380|[[JAM MAKING SET ...|        []|\n",
            "|536381|[[ZINC WILLIE WIN...|        []|\n",
            "|536382|[[VINTAGE SNAKES ...|        []|\n",
            "|536384|[[ENAMEL BREAD BI...|        []|\n",
            "|536385|[[TRADITIONAL CHR...|        []|\n",
            "|536386|[[JUMBO BAG RED R...|        []|\n",
            "+------+--------------------+----------+\n",
            "only showing top 20 rows\n",
            "\n",
            "minSupport: 0.1, minConfidence: 0.5\n",
            "+-----+----+\n",
            "|items|freq|\n",
            "+-----+----+\n",
            "+-----+----+\n",
            "\n",
            "+----------+----------+----------+----+-------+\n",
            "|antecedent|consequent|confidence|lift|support|\n",
            "+----------+----------+----------+----+-------+\n",
            "+----------+----------+----------+----+-------+\n",
            "\n",
            "+------+--------------------+----------+\n",
            "|BillNo|                item|prediction|\n",
            "+------+--------------------+----------+\n",
            "|536365|[[KNITTED UNION F...|        []|\n",
            "|536366|[[HAND WARMER UNI...|        []|\n",
            "|536367|[[BOX OF VINTAGE ...|        []|\n",
            "|536368|[[YELLOW COAT RAC...|        []|\n",
            "|536369|[[BATH BUILDING B...|        []|\n",
            "|536370|[[SPACEBOY LUNCH ...|        []|\n",
            "|536371|[[PAPER CHAIN KIT...|        []|\n",
            "|536372|[[HAND WARMER UNI...|        []|\n",
            "|536373|[[GLASS STAR FROS...|        []|\n",
            "|536374|[[VICTORIAN SEWIN...|        []|\n",
            "|536375|[[SAVE THE PLANET...|        []|\n",
            "|536376|[[RED HANGING HEA...|        []|\n",
            "|536377|[[HAND WARMER RED...|        []|\n",
            "|536378|[[PACK OF 60 PINK...|        []|\n",
            "|536380|[[JAM MAKING SET ...|        []|\n",
            "|536381|[[ZINC WILLIE WIN...|        []|\n",
            "|536382|[[VINTAGE SNAKES ...|        []|\n",
            "|536384|[[ENAMEL BREAD BI...|        []|\n",
            "|536385|[[TRADITIONAL CHR...|        []|\n",
            "|536386|[[JUMBO BAG RED R...|        []|\n",
            "+------+--------------------+----------+\n",
            "only showing top 20 rows\n",
            "\n",
            "minSupport: 0.25, minConfidence: 0.25\n",
            "+-----+----+\n",
            "|items|freq|\n",
            "+-----+----+\n",
            "+-----+----+\n",
            "\n",
            "+----------+----------+----------+----+-------+\n",
            "|antecedent|consequent|confidence|lift|support|\n",
            "+----------+----------+----------+----+-------+\n",
            "+----------+----------+----------+----+-------+\n",
            "\n",
            "+------+--------------------+----------+\n",
            "|BillNo|                item|prediction|\n",
            "+------+--------------------+----------+\n",
            "|536365|[[KNITTED UNION F...|        []|\n",
            "|536366|[[HAND WARMER UNI...|        []|\n",
            "|536367|[[BOX OF VINTAGE ...|        []|\n",
            "|536368|[[YELLOW COAT RAC...|        []|\n",
            "|536369|[[BATH BUILDING B...|        []|\n",
            "|536370|[[SPACEBOY LUNCH ...|        []|\n",
            "|536371|[[PAPER CHAIN KIT...|        []|\n",
            "|536372|[[HAND WARMER UNI...|        []|\n",
            "|536373|[[GLASS STAR FROS...|        []|\n",
            "|536374|[[VICTORIAN SEWIN...|        []|\n",
            "|536375|[[SAVE THE PLANET...|        []|\n",
            "|536376|[[RED HANGING HEA...|        []|\n",
            "|536377|[[HAND WARMER RED...|        []|\n",
            "|536378|[[PACK OF 60 PINK...|        []|\n",
            "|536380|[[JAM MAKING SET ...|        []|\n",
            "|536381|[[ZINC WILLIE WIN...|        []|\n",
            "|536382|[[VINTAGE SNAKES ...|        []|\n",
            "|536384|[[ENAMEL BREAD BI...|        []|\n",
            "|536385|[[TRADITIONAL CHR...|        []|\n",
            "|536386|[[JUMBO BAG RED R...|        []|\n",
            "+------+--------------------+----------+\n",
            "only showing top 20 rows\n",
            "\n",
            "minSupport: 0.25, minConfidence: 0.5\n",
            "+-----+----+\n",
            "|items|freq|\n",
            "+-----+----+\n",
            "+-----+----+\n",
            "\n",
            "+----------+----------+----------+----+-------+\n",
            "|antecedent|consequent|confidence|lift|support|\n",
            "+----------+----------+----------+----+-------+\n",
            "+----------+----------+----------+----+-------+\n",
            "\n",
            "+------+--------------------+----------+\n",
            "|BillNo|                item|prediction|\n",
            "+------+--------------------+----------+\n",
            "|536365|[[KNITTED UNION F...|        []|\n",
            "|536366|[[HAND WARMER UNI...|        []|\n",
            "|536367|[[BOX OF VINTAGE ...|        []|\n",
            "|536368|[[YELLOW COAT RAC...|        []|\n",
            "|536369|[[BATH BUILDING B...|        []|\n",
            "|536370|[[SPACEBOY LUNCH ...|        []|\n",
            "|536371|[[PAPER CHAIN KIT...|        []|\n",
            "|536372|[[HAND WARMER UNI...|        []|\n",
            "|536373|[[GLASS STAR FROS...|        []|\n",
            "|536374|[[VICTORIAN SEWIN...|        []|\n",
            "|536375|[[SAVE THE PLANET...|        []|\n",
            "|536376|[[RED HANGING HEA...|        []|\n",
            "|536377|[[HAND WARMER RED...|        []|\n",
            "|536378|[[PACK OF 60 PINK...|        []|\n",
            "|536380|[[JAM MAKING SET ...|        []|\n",
            "|536381|[[ZINC WILLIE WIN...|        []|\n",
            "|536382|[[VINTAGE SNAKES ...|        []|\n",
            "|536384|[[ENAMEL BREAD BI...|        []|\n",
            "|536385|[[TRADITIONAL CHR...|        []|\n",
            "|536386|[[JUMBO BAG RED R...|        []|\n",
            "+------+--------------------+----------+\n",
            "only showing top 20 rows\n",
            "\n",
            "minSupport: 0.5, minConfidence: 0.25\n",
            "+-----+----+\n",
            "|items|freq|\n",
            "+-----+----+\n",
            "+-----+----+\n",
            "\n",
            "+----------+----------+----------+----+-------+\n",
            "|antecedent|consequent|confidence|lift|support|\n",
            "+----------+----------+----------+----+-------+\n",
            "+----------+----------+----------+----+-------+\n",
            "\n",
            "+------+--------------------+----------+\n",
            "|BillNo|                item|prediction|\n",
            "+------+--------------------+----------+\n",
            "|536365|[[KNITTED UNION F...|        []|\n",
            "|536366|[[HAND WARMER UNI...|        []|\n",
            "|536367|[[BOX OF VINTAGE ...|        []|\n",
            "|536368|[[YELLOW COAT RAC...|        []|\n",
            "|536369|[[BATH BUILDING B...|        []|\n",
            "|536370|[[SPACEBOY LUNCH ...|        []|\n",
            "|536371|[[PAPER CHAIN KIT...|        []|\n",
            "|536372|[[HAND WARMER UNI...|        []|\n",
            "|536373|[[GLASS STAR FROS...|        []|\n",
            "|536374|[[VICTORIAN SEWIN...|        []|\n",
            "|536375|[[SAVE THE PLANET...|        []|\n",
            "|536376|[[RED HANGING HEA...|        []|\n",
            "|536377|[[HAND WARMER RED...|        []|\n",
            "|536378|[[PACK OF 60 PINK...|        []|\n",
            "|536380|[[JAM MAKING SET ...|        []|\n",
            "|536381|[[ZINC WILLIE WIN...|        []|\n",
            "|536382|[[VINTAGE SNAKES ...|        []|\n",
            "|536384|[[ENAMEL BREAD BI...|        []|\n",
            "|536385|[[TRADITIONAL CHR...|        []|\n",
            "|536386|[[JUMBO BAG RED R...|        []|\n",
            "+------+--------------------+----------+\n",
            "only showing top 20 rows\n",
            "\n",
            "minSupport: 0.5, minConfidence: 0.5\n",
            "+-----+----+\n",
            "|items|freq|\n",
            "+-----+----+\n",
            "+-----+----+\n",
            "\n",
            "+----------+----------+----------+----+-------+\n",
            "|antecedent|consequent|confidence|lift|support|\n",
            "+----------+----------+----------+----+-------+\n",
            "+----------+----------+----------+----+-------+\n",
            "\n",
            "+------+--------------------+----------+\n",
            "|BillNo|                item|prediction|\n",
            "+------+--------------------+----------+\n",
            "|536365|[[KNITTED UNION F...|        []|\n",
            "|536366|[[HAND WARMER UNI...|        []|\n",
            "|536367|[[BOX OF VINTAGE ...|        []|\n",
            "|536368|[[YELLOW COAT RAC...|        []|\n",
            "|536369|[[BATH BUILDING B...|        []|\n",
            "|536370|[[SPACEBOY LUNCH ...|        []|\n",
            "|536371|[[PAPER CHAIN KIT...|        []|\n",
            "|536372|[[HAND WARMER UNI...|        []|\n",
            "|536373|[[GLASS STAR FROS...|        []|\n",
            "|536374|[[VICTORIAN SEWIN...|        []|\n",
            "|536375|[[SAVE THE PLANET...|        []|\n",
            "|536376|[[RED HANGING HEA...|        []|\n",
            "|536377|[[HAND WARMER RED...|        []|\n",
            "|536378|[[PACK OF 60 PINK...|        []|\n",
            "|536380|[[JAM MAKING SET ...|        []|\n",
            "|536381|[[ZINC WILLIE WIN...|        []|\n",
            "|536382|[[VINTAGE SNAKES ...|        []|\n",
            "|536384|[[ENAMEL BREAD BI...|        []|\n",
            "|536385|[[TRADITIONAL CHR...|        []|\n",
            "|536386|[[JUMBO BAG RED R...|        []|\n",
            "+------+--------------------+----------+\n",
            "only showing top 20 rows\n",
            "\n"
          ]
        }
      ]
    },
    {
      "cell_type": "markdown",
      "metadata": {
        "id": "NKBBOFBX5Oht"
      },
      "source": [
        "We take a look into several metrics like min_support, confidence, lift, antencedence and consequent"
      ]
    },
    {
      "cell_type": "markdown",
      "source": [
        "### To sum up, the FP-Growth algorithm has not been successful so far. This could be due to the way the Itemname column is structured as a string of sentences or the absence of item IDs. If the CSV file included item IDs as a separate column, it would likely be easier to resolve these issues."
      ],
      "metadata": {
        "id": "-Fy1yfCnaaQ4"
      }
    }
  ],
  "metadata": {
    "colab": {
      "provenance": []
    },
    "kernelspec": {
      "display_name": "Python 3",
      "name": "python3"
    },
    "language_info": {
      "name": "python"
    }
  },
  "nbformat": 4,
  "nbformat_minor": 0
}